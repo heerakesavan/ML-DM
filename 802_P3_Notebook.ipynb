{
 "cells": [
  {
   "cell_type": "code",
   "execution_count": 1,
   "metadata": {},
   "outputs": [],
   "source": [
    "import pandas as pd\n",
    "import numpy as np\n",
    "import warnings\n",
    "warnings.filterwarnings(\"ignore\")\n",
    "import matplotlib.pyplot as plt\n",
    "import seaborn as sns"
   ]
  },
  {
   "cell_type": "markdown",
   "metadata": {},
   "source": [
    "# Import P3 Train Dataset"
   ]
  },
  {
   "cell_type": "code",
   "execution_count": 2,
   "metadata": {},
   "outputs": [
    {
     "data": {
      "text/html": [
       "<div>\n",
       "<style scoped>\n",
       "    .dataframe tbody tr th:only-of-type {\n",
       "        vertical-align: middle;\n",
       "    }\n",
       "\n",
       "    .dataframe tbody tr th {\n",
       "        vertical-align: top;\n",
       "    }\n",
       "\n",
       "    .dataframe thead th {\n",
       "        text-align: right;\n",
       "    }\n",
       "</style>\n",
       "<table border=\"1\" class=\"dataframe\">\n",
       "  <thead>\n",
       "    <tr style=\"text-align: right;\">\n",
       "      <th></th>\n",
       "      <th>F1</th>\n",
       "      <th>F2</th>\n",
       "      <th>F3</th>\n",
       "      <th>F4</th>\n",
       "      <th>F5</th>\n",
       "      <th>F6</th>\n",
       "      <th>F7</th>\n",
       "      <th>F8</th>\n",
       "      <th>F9</th>\n",
       "      <th>F10</th>\n",
       "      <th>F11</th>\n",
       "      <th>F12</th>\n",
       "      <th>F13</th>\n",
       "      <th>F14</th>\n",
       "      <th>F15</th>\n",
       "      <th>F16</th>\n",
       "      <th>Target</th>\n",
       "    </tr>\n",
       "  </thead>\n",
       "  <tbody>\n",
       "    <tr>\n",
       "      <th>0</th>\n",
       "      <td>0.00</td>\n",
       "      <td>1.73</td>\n",
       "      <td>3.14</td>\n",
       "      <td>5.73</td>\n",
       "      <td>-5.48</td>\n",
       "      <td>-743.61</td>\n",
       "      <td>152.20</td>\n",
       "      <td>Europe</td>\n",
       "      <td>3</td>\n",
       "      <td>1577.82</td>\n",
       "      <td>-383.82</td>\n",
       "      <td>12</td>\n",
       "      <td>-2289.14</td>\n",
       "      <td>-19.69</td>\n",
       "      <td>High</td>\n",
       "      <td>25354.83</td>\n",
       "      <td>167.75</td>\n",
       "    </tr>\n",
       "    <tr>\n",
       "      <th>1</th>\n",
       "      <td>9.84</td>\n",
       "      <td>3.46</td>\n",
       "      <td>6.02</td>\n",
       "      <td>14.42</td>\n",
       "      <td>-10.94</td>\n",
       "      <td>-820.35</td>\n",
       "      <td>68.56</td>\n",
       "      <td>Rest</td>\n",
       "      <td>4</td>\n",
       "      <td>1884.69</td>\n",
       "      <td>-488.34</td>\n",
       "      <td>6</td>\n",
       "      <td>-2899.20</td>\n",
       "      <td>-19.46</td>\n",
       "      <td>Very low</td>\n",
       "      <td>32380.17</td>\n",
       "      <td>704.46</td>\n",
       "    </tr>\n",
       "    <tr>\n",
       "      <th>2</th>\n",
       "      <td>4.14</td>\n",
       "      <td>-1.95</td>\n",
       "      <td>6.96</td>\n",
       "      <td>4.27</td>\n",
       "      <td>-7.94</td>\n",
       "      <td>-818.43</td>\n",
       "      <td>107.86</td>\n",
       "      <td>Rest</td>\n",
       "      <td>4</td>\n",
       "      <td>2063.79</td>\n",
       "      <td>-287.76</td>\n",
       "      <td>6</td>\n",
       "      <td>-2885.52</td>\n",
       "      <td>-20.57</td>\n",
       "      <td>Very high</td>\n",
       "      <td>28882.38</td>\n",
       "      <td>302.43</td>\n",
       "    </tr>\n",
       "    <tr>\n",
       "      <th>3</th>\n",
       "      <td>20.06</td>\n",
       "      <td>-3.34</td>\n",
       "      <td>3.76</td>\n",
       "      <td>4.78</td>\n",
       "      <td>-6.30</td>\n",
       "      <td>-814.53</td>\n",
       "      <td>147.04</td>\n",
       "      <td>UK</td>\n",
       "      <td>7</td>\n",
       "      <td>1319.19</td>\n",
       "      <td>-435.54</td>\n",
       "      <td>4</td>\n",
       "      <td>-2319.80</td>\n",
       "      <td>-20.24</td>\n",
       "      <td>Very high</td>\n",
       "      <td>28523.04</td>\n",
       "      <td>2420.98</td>\n",
       "    </tr>\n",
       "    <tr>\n",
       "      <th>4</th>\n",
       "      <td>63.63</td>\n",
       "      <td>-0.97</td>\n",
       "      <td>11.08</td>\n",
       "      <td>5.66</td>\n",
       "      <td>-9.60</td>\n",
       "      <td>-847.41</td>\n",
       "      <td>99.70</td>\n",
       "      <td>Europe</td>\n",
       "      <td>1</td>\n",
       "      <td>1921.14</td>\n",
       "      <td>-246.45</td>\n",
       "      <td>10</td>\n",
       "      <td>-1344.40</td>\n",
       "      <td>-21.90</td>\n",
       "      <td>Medium</td>\n",
       "      <td>27915.81</td>\n",
       "      <td>271.65</td>\n",
       "    </tr>\n",
       "  </tbody>\n",
       "</table>\n",
       "</div>"
      ],
      "text/plain": [
       "      F1    F2     F3     F4     F5      F6      F7      F8  F9      F10  \\\n",
       "0   0.00  1.73   3.14   5.73  -5.48 -743.61  152.20  Europe   3  1577.82   \n",
       "1   9.84  3.46   6.02  14.42 -10.94 -820.35   68.56    Rest   4  1884.69   \n",
       "2   4.14 -1.95   6.96   4.27  -7.94 -818.43  107.86    Rest   4  2063.79   \n",
       "3  20.06 -3.34   3.76   4.78  -6.30 -814.53  147.04      UK   7  1319.19   \n",
       "4  63.63 -0.97  11.08   5.66  -9.60 -847.41   99.70  Europe   1  1921.14   \n",
       "\n",
       "      F11  F12      F13    F14        F15       F16   Target  \n",
       "0 -383.82   12 -2289.14 -19.69       High  25354.83   167.75  \n",
       "1 -488.34    6 -2899.20 -19.46   Very low  32380.17   704.46  \n",
       "2 -287.76    6 -2885.52 -20.57  Very high  28882.38   302.43  \n",
       "3 -435.54    4 -2319.80 -20.24  Very high  28523.04  2420.98  \n",
       "4 -246.45   10 -1344.40 -21.90     Medium  27915.81   271.65  "
      ]
     },
     "execution_count": 2,
     "metadata": {},
     "output_type": "execute_result"
    }
   ],
   "source": [
    "df_train = pd.read_csv(\"C:/Users/heera/OneDrive - Heerak/Desktop/CE802 P3/CE802_P3_Data.csv\")\n",
    "df_train.head()\n"
   ]
  },
  {
   "cell_type": "code",
   "execution_count": 3,
   "metadata": {},
   "outputs": [
    {
     "data": {
      "text/html": [
       "<div>\n",
       "<style scoped>\n",
       "    .dataframe tbody tr th:only-of-type {\n",
       "        vertical-align: middle;\n",
       "    }\n",
       "\n",
       "    .dataframe tbody tr th {\n",
       "        vertical-align: top;\n",
       "    }\n",
       "\n",
       "    .dataframe thead th {\n",
       "        text-align: right;\n",
       "    }\n",
       "</style>\n",
       "<table border=\"1\" class=\"dataframe\">\n",
       "  <thead>\n",
       "    <tr style=\"text-align: right;\">\n",
       "      <th></th>\n",
       "      <th>F1</th>\n",
       "      <th>F2</th>\n",
       "      <th>F3</th>\n",
       "      <th>F4</th>\n",
       "      <th>F5</th>\n",
       "      <th>F6</th>\n",
       "      <th>F7</th>\n",
       "      <th>F9</th>\n",
       "      <th>F10</th>\n",
       "      <th>F11</th>\n",
       "      <th>F12</th>\n",
       "      <th>F13</th>\n",
       "      <th>F14</th>\n",
       "      <th>F16</th>\n",
       "      <th>Target</th>\n",
       "    </tr>\n",
       "  </thead>\n",
       "  <tbody>\n",
       "    <tr>\n",
       "      <th>count</th>\n",
       "      <td>1500.000000</td>\n",
       "      <td>1500.000000</td>\n",
       "      <td>1500.000000</td>\n",
       "      <td>1500.000000</td>\n",
       "      <td>1500.000000</td>\n",
       "      <td>1500.000000</td>\n",
       "      <td>1500.000000</td>\n",
       "      <td>1500.000000</td>\n",
       "      <td>1500.00000</td>\n",
       "      <td>1500.000000</td>\n",
       "      <td>1500.000000</td>\n",
       "      <td>1500.000000</td>\n",
       "      <td>1500.000000</td>\n",
       "      <td>1500.000000</td>\n",
       "      <td>1500.000000</td>\n",
       "    </tr>\n",
       "    <tr>\n",
       "      <th>mean</th>\n",
       "      <td>63.602773</td>\n",
       "      <td>-0.104847</td>\n",
       "      <td>8.109187</td>\n",
       "      <td>4.041660</td>\n",
       "      <td>-8.765747</td>\n",
       "      <td>-815.349400</td>\n",
       "      <td>123.191920</td>\n",
       "      <td>3.947333</td>\n",
       "      <td>1334.90566</td>\n",
       "      <td>-341.195900</td>\n",
       "      <td>7.885333</td>\n",
       "      <td>-2173.617040</td>\n",
       "      <td>-20.066667</td>\n",
       "      <td>24202.705020</td>\n",
       "      <td>922.082533</td>\n",
       "    </tr>\n",
       "    <tr>\n",
       "      <th>std</th>\n",
       "      <td>774.154296</td>\n",
       "      <td>3.040026</td>\n",
       "      <td>5.812853</td>\n",
       "      <td>2.893909</td>\n",
       "      <td>6.048501</td>\n",
       "      <td>126.724179</td>\n",
       "      <td>58.613624</td>\n",
       "      <td>1.836702</td>\n",
       "      <td>904.26205</td>\n",
       "      <td>89.572842</td>\n",
       "      <td>3.620072</td>\n",
       "      <td>592.936195</td>\n",
       "      <td>4.183142</td>\n",
       "      <td>13329.106617</td>\n",
       "      <td>1092.331874</td>\n",
       "    </tr>\n",
       "    <tr>\n",
       "      <th>min</th>\n",
       "      <td>0.000000</td>\n",
       "      <td>-10.170000</td>\n",
       "      <td>0.080000</td>\n",
       "      <td>0.040000</td>\n",
       "      <td>-27.620000</td>\n",
       "      <td>-1658.250000</td>\n",
       "      <td>-56.180000</td>\n",
       "      <td>0.000000</td>\n",
       "      <td>-1743.24000</td>\n",
       "      <td>-697.350000</td>\n",
       "      <td>0.000000</td>\n",
       "      <td>-4161.840000</td>\n",
       "      <td>-36.320000</td>\n",
       "      <td>-35082.450000</td>\n",
       "      <td>0.000000</td>\n",
       "    </tr>\n",
       "    <tr>\n",
       "      <th>25%</th>\n",
       "      <td>0.130000</td>\n",
       "      <td>-2.060000</td>\n",
       "      <td>3.815000</td>\n",
       "      <td>1.945000</td>\n",
       "      <td>-13.000000</td>\n",
       "      <td>-875.347500</td>\n",
       "      <td>83.900000</td>\n",
       "      <td>3.000000</td>\n",
       "      <td>732.36000</td>\n",
       "      <td>-401.340000</td>\n",
       "      <td>6.000000</td>\n",
       "      <td>-2578.875000</td>\n",
       "      <td>-22.045000</td>\n",
       "      <td>18069.450000</td>\n",
       "      <td>0.000000</td>\n",
       "    </tr>\n",
       "    <tr>\n",
       "      <th>50%</th>\n",
       "      <td>1.010000</td>\n",
       "      <td>-0.000000</td>\n",
       "      <td>6.740000</td>\n",
       "      <td>3.415000</td>\n",
       "      <td>-8.760000</td>\n",
       "      <td>-815.535000</td>\n",
       "      <td>121.580000</td>\n",
       "      <td>4.000000</td>\n",
       "      <td>1324.15500</td>\n",
       "      <td>-341.055000</td>\n",
       "      <td>8.000000</td>\n",
       "      <td>-2179.270000</td>\n",
       "      <td>-20.085000</td>\n",
       "      <td>24205.875000</td>\n",
       "      <td>429.570000</td>\n",
       "    </tr>\n",
       "    <tr>\n",
       "      <th>75%</th>\n",
       "      <td>6.805000</td>\n",
       "      <td>1.875000</td>\n",
       "      <td>10.945000</td>\n",
       "      <td>5.492500</td>\n",
       "      <td>-4.520000</td>\n",
       "      <td>-752.130000</td>\n",
       "      <td>161.920000</td>\n",
       "      <td>5.000000</td>\n",
       "      <td>1962.12750</td>\n",
       "      <td>-278.595000</td>\n",
       "      <td>10.000000</td>\n",
       "      <td>-1763.605000</td>\n",
       "      <td>-18.175000</td>\n",
       "      <td>30911.280000</td>\n",
       "      <td>1530.205000</td>\n",
       "    </tr>\n",
       "    <tr>\n",
       "      <th>max</th>\n",
       "      <td>27474.530000</td>\n",
       "      <td>9.600000</td>\n",
       "      <td>45.140000</td>\n",
       "      <td>23.390000</td>\n",
       "      <td>9.280000</td>\n",
       "      <td>-243.840000</td>\n",
       "      <td>328.100000</td>\n",
       "      <td>11.000000</td>\n",
       "      <td>4487.55000</td>\n",
       "      <td>-25.530000</td>\n",
       "      <td>20.000000</td>\n",
       "      <td>-45.160000</td>\n",
       "      <td>7.550000</td>\n",
       "      <td>85263.240000</td>\n",
       "      <td>3960.010000</td>\n",
       "    </tr>\n",
       "  </tbody>\n",
       "</table>\n",
       "</div>"
      ],
      "text/plain": [
       "                 F1           F2           F3           F4           F5  \\\n",
       "count   1500.000000  1500.000000  1500.000000  1500.000000  1500.000000   \n",
       "mean      63.602773    -0.104847     8.109187     4.041660    -8.765747   \n",
       "std      774.154296     3.040026     5.812853     2.893909     6.048501   \n",
       "min        0.000000   -10.170000     0.080000     0.040000   -27.620000   \n",
       "25%        0.130000    -2.060000     3.815000     1.945000   -13.000000   \n",
       "50%        1.010000    -0.000000     6.740000     3.415000    -8.760000   \n",
       "75%        6.805000     1.875000    10.945000     5.492500    -4.520000   \n",
       "max    27474.530000     9.600000    45.140000    23.390000     9.280000   \n",
       "\n",
       "                F6           F7           F9         F10          F11  \\\n",
       "count  1500.000000  1500.000000  1500.000000  1500.00000  1500.000000   \n",
       "mean   -815.349400   123.191920     3.947333  1334.90566  -341.195900   \n",
       "std     126.724179    58.613624     1.836702   904.26205    89.572842   \n",
       "min   -1658.250000   -56.180000     0.000000 -1743.24000  -697.350000   \n",
       "25%    -875.347500    83.900000     3.000000   732.36000  -401.340000   \n",
       "50%    -815.535000   121.580000     4.000000  1324.15500  -341.055000   \n",
       "75%    -752.130000   161.920000     5.000000  1962.12750  -278.595000   \n",
       "max    -243.840000   328.100000    11.000000  4487.55000   -25.530000   \n",
       "\n",
       "               F12          F13          F14           F16       Target  \n",
       "count  1500.000000  1500.000000  1500.000000   1500.000000  1500.000000  \n",
       "mean      7.885333 -2173.617040   -20.066667  24202.705020   922.082533  \n",
       "std       3.620072   592.936195     4.183142  13329.106617  1092.331874  \n",
       "min       0.000000 -4161.840000   -36.320000 -35082.450000     0.000000  \n",
       "25%       6.000000 -2578.875000   -22.045000  18069.450000     0.000000  \n",
       "50%       8.000000 -2179.270000   -20.085000  24205.875000   429.570000  \n",
       "75%      10.000000 -1763.605000   -18.175000  30911.280000  1530.205000  \n",
       "max      20.000000   -45.160000     7.550000  85263.240000  3960.010000  "
      ]
     },
     "execution_count": 3,
     "metadata": {},
     "output_type": "execute_result"
    }
   ],
   "source": [
    "df_train.describe()"
   ]
  },
  {
   "cell_type": "code",
   "execution_count": 4,
   "metadata": {},
   "outputs": [
    {
     "data": {
      "text/plain": [
       "Very low     312\n",
       "Low          310\n",
       "High         301\n",
       "Very high    290\n",
       "Medium       287\n",
       "Name: F15, dtype: int64"
      ]
     },
     "execution_count": 4,
     "metadata": {},
     "output_type": "execute_result"
    }
   ],
   "source": [
    "df_train['F15'].value_counts()"
   ]
  },
  {
   "cell_type": "markdown",
   "metadata": {},
   "source": [
    "# Label Encoder for Categorical Column \"F15\" for both train and test dataset"
   ]
  },
  {
   "cell_type": "code",
   "execution_count": 5,
   "metadata": {},
   "outputs": [],
   "source": [
    "from sklearn.preprocessing import LabelEncoder\n",
    "label_encoder=LabelEncoder()"
   ]
  },
  {
   "cell_type": "code",
   "execution_count": 6,
   "metadata": {},
   "outputs": [],
   "source": [
    "df_train['F15'] = label_encoder.fit_transform(df_train['F15'])"
   ]
  },
  {
   "cell_type": "markdown",
   "metadata": {},
   "source": [
    "# Import P3 Test Data"
   ]
  },
  {
   "cell_type": "code",
   "execution_count": 7,
   "metadata": {},
   "outputs": [
    {
     "data": {
      "text/html": [
       "<div>\n",
       "<style scoped>\n",
       "    .dataframe tbody tr th:only-of-type {\n",
       "        vertical-align: middle;\n",
       "    }\n",
       "\n",
       "    .dataframe tbody tr th {\n",
       "        vertical-align: top;\n",
       "    }\n",
       "\n",
       "    .dataframe thead th {\n",
       "        text-align: right;\n",
       "    }\n",
       "</style>\n",
       "<table border=\"1\" class=\"dataframe\">\n",
       "  <thead>\n",
       "    <tr style=\"text-align: right;\">\n",
       "      <th></th>\n",
       "      <th>F1</th>\n",
       "      <th>F2</th>\n",
       "      <th>F3</th>\n",
       "      <th>F4</th>\n",
       "      <th>F5</th>\n",
       "      <th>F6</th>\n",
       "      <th>F7</th>\n",
       "      <th>F8</th>\n",
       "      <th>F9</th>\n",
       "      <th>F10</th>\n",
       "      <th>F11</th>\n",
       "      <th>F12</th>\n",
       "      <th>F13</th>\n",
       "      <th>F14</th>\n",
       "      <th>F15</th>\n",
       "      <th>F16</th>\n",
       "      <th>Target</th>\n",
       "    </tr>\n",
       "  </thead>\n",
       "  <tbody>\n",
       "    <tr>\n",
       "      <th>0</th>\n",
       "      <td>0.00</td>\n",
       "      <td>1.73</td>\n",
       "      <td>3.14</td>\n",
       "      <td>5.73</td>\n",
       "      <td>-5.48</td>\n",
       "      <td>-743.61</td>\n",
       "      <td>152.20</td>\n",
       "      <td>Europe</td>\n",
       "      <td>3</td>\n",
       "      <td>1577.82</td>\n",
       "      <td>-383.82</td>\n",
       "      <td>12</td>\n",
       "      <td>-2289.14</td>\n",
       "      <td>-19.69</td>\n",
       "      <td>High</td>\n",
       "      <td>25354.83</td>\n",
       "      <td>117.866026</td>\n",
       "    </tr>\n",
       "    <tr>\n",
       "      <th>1</th>\n",
       "      <td>9.84</td>\n",
       "      <td>3.46</td>\n",
       "      <td>6.02</td>\n",
       "      <td>14.42</td>\n",
       "      <td>-10.94</td>\n",
       "      <td>-820.35</td>\n",
       "      <td>68.56</td>\n",
       "      <td>Rest</td>\n",
       "      <td>4</td>\n",
       "      <td>1884.69</td>\n",
       "      <td>-488.34</td>\n",
       "      <td>6</td>\n",
       "      <td>-2899.20</td>\n",
       "      <td>-19.46</td>\n",
       "      <td>Very low</td>\n",
       "      <td>32380.17</td>\n",
       "      <td>1648.249580</td>\n",
       "    </tr>\n",
       "    <tr>\n",
       "      <th>2</th>\n",
       "      <td>4.14</td>\n",
       "      <td>-1.95</td>\n",
       "      <td>6.96</td>\n",
       "      <td>4.27</td>\n",
       "      <td>-7.94</td>\n",
       "      <td>-818.43</td>\n",
       "      <td>107.86</td>\n",
       "      <td>Rest</td>\n",
       "      <td>4</td>\n",
       "      <td>2063.79</td>\n",
       "      <td>-287.76</td>\n",
       "      <td>6</td>\n",
       "      <td>-2885.52</td>\n",
       "      <td>-20.57</td>\n",
       "      <td>Very high</td>\n",
       "      <td>28882.38</td>\n",
       "      <td>738.396867</td>\n",
       "    </tr>\n",
       "    <tr>\n",
       "      <th>3</th>\n",
       "      <td>20.06</td>\n",
       "      <td>-3.34</td>\n",
       "      <td>3.76</td>\n",
       "      <td>4.78</td>\n",
       "      <td>-6.30</td>\n",
       "      <td>-814.53</td>\n",
       "      <td>147.04</td>\n",
       "      <td>UK</td>\n",
       "      <td>7</td>\n",
       "      <td>1319.19</td>\n",
       "      <td>-435.54</td>\n",
       "      <td>4</td>\n",
       "      <td>-2319.80</td>\n",
       "      <td>-20.24</td>\n",
       "      <td>Very high</td>\n",
       "      <td>28523.04</td>\n",
       "      <td>1395.574696</td>\n",
       "    </tr>\n",
       "    <tr>\n",
       "      <th>4</th>\n",
       "      <td>63.63</td>\n",
       "      <td>-0.97</td>\n",
       "      <td>11.08</td>\n",
       "      <td>5.66</td>\n",
       "      <td>-9.60</td>\n",
       "      <td>-847.41</td>\n",
       "      <td>99.70</td>\n",
       "      <td>Europe</td>\n",
       "      <td>1</td>\n",
       "      <td>1921.14</td>\n",
       "      <td>-246.45</td>\n",
       "      <td>10</td>\n",
       "      <td>-1344.40</td>\n",
       "      <td>-21.90</td>\n",
       "      <td>Medium</td>\n",
       "      <td>27915.81</td>\n",
       "      <td>461.266658</td>\n",
       "    </tr>\n",
       "  </tbody>\n",
       "</table>\n",
       "</div>"
      ],
      "text/plain": [
       "      F1    F2     F3     F4     F5      F6      F7      F8  F9      F10  \\\n",
       "0   0.00  1.73   3.14   5.73  -5.48 -743.61  152.20  Europe   3  1577.82   \n",
       "1   9.84  3.46   6.02  14.42 -10.94 -820.35   68.56    Rest   4  1884.69   \n",
       "2   4.14 -1.95   6.96   4.27  -7.94 -818.43  107.86    Rest   4  2063.79   \n",
       "3  20.06 -3.34   3.76   4.78  -6.30 -814.53  147.04      UK   7  1319.19   \n",
       "4  63.63 -0.97  11.08   5.66  -9.60 -847.41   99.70  Europe   1  1921.14   \n",
       "\n",
       "      F11  F12      F13    F14        F15       F16       Target  \n",
       "0 -383.82   12 -2289.14 -19.69       High  25354.83   117.866026  \n",
       "1 -488.34    6 -2899.20 -19.46   Very low  32380.17  1648.249580  \n",
       "2 -287.76    6 -2885.52 -20.57  Very high  28882.38   738.396867  \n",
       "3 -435.54    4 -2319.80 -20.24  Very high  28523.04  1395.574696  \n",
       "4 -246.45   10 -1344.40 -21.90     Medium  27915.81   461.266658  "
      ]
     },
     "execution_count": 7,
     "metadata": {},
     "output_type": "execute_result"
    }
   ],
   "source": [
    "df_test = pd.read_csv(\"C:/Users/heera/OneDrive - Heerak/Desktop/CE802 P3/CE802_P3_Test.csv\")\n",
    "df_test.head()"
   ]
  },
  {
   "cell_type": "code",
   "execution_count": 8,
   "metadata": {},
   "outputs": [],
   "source": [
    "df_test['F15'] = label_encoder.fit_transform(df_test['F15'])"
   ]
  },
  {
   "cell_type": "markdown",
   "metadata": {},
   "source": [
    "# Checking Null / Missing values"
   ]
  },
  {
   "cell_type": "code",
   "execution_count": 9,
   "metadata": {},
   "outputs": [
    {
     "data": {
      "text/plain": [
       "F1        0\n",
       "F2        0\n",
       "F3        0\n",
       "F4        0\n",
       "F5        0\n",
       "F6        0\n",
       "F7        0\n",
       "F8        0\n",
       "F9        0\n",
       "F10       0\n",
       "F11       0\n",
       "F12       0\n",
       "F13       0\n",
       "F14       0\n",
       "F15       0\n",
       "F16       0\n",
       "Target    0\n",
       "dtype: int64"
      ]
     },
     "execution_count": 9,
     "metadata": {},
     "output_type": "execute_result"
    }
   ],
   "source": [
    "df_train.isnull().sum()"
   ]
  },
  {
   "cell_type": "markdown",
   "metadata": {},
   "source": [
    "# Histogram of each Columns\n",
    " "
   ]
  },
  {
   "cell_type": "code",
   "execution_count": 10,
   "metadata": {},
   "outputs": [
    {
     "data": {
      "text/plain": [
       "array([[<AxesSubplot:title={'center':'F1'}>,\n",
       "        <AxesSubplot:title={'center':'F2'}>,\n",
       "        <AxesSubplot:title={'center':'F3'}>,\n",
       "        <AxesSubplot:title={'center':'F4'}>],\n",
       "       [<AxesSubplot:title={'center':'F5'}>,\n",
       "        <AxesSubplot:title={'center':'F6'}>,\n",
       "        <AxesSubplot:title={'center':'F7'}>,\n",
       "        <AxesSubplot:title={'center':'F9'}>],\n",
       "       [<AxesSubplot:title={'center':'F10'}>,\n",
       "        <AxesSubplot:title={'center':'F11'}>,\n",
       "        <AxesSubplot:title={'center':'F12'}>,\n",
       "        <AxesSubplot:title={'center':'F13'}>],\n",
       "       [<AxesSubplot:title={'center':'F14'}>,\n",
       "        <AxesSubplot:title={'center':'F15'}>,\n",
       "        <AxesSubplot:title={'center':'F16'}>,\n",
       "        <AxesSubplot:title={'center':'Target'}>]], dtype=object)"
      ]
     },
     "execution_count": 10,
     "metadata": {},
     "output_type": "execute_result"
    },
    {
     "data": {
      "image/png": "[encoded data removed]",
      "text/plain": [
       "<Figure size 1080x720 with 16 Axes>"
      ]
     },
     "metadata": {
      "needs_background": "light"
     },
     "output_type": "display_data"
    }
   ],
   "source": [
    "df_train.hist(bins=30, figsize=(15, 10))"
   ]
  },
  {
   "cell_type": "code",
   "execution_count": 11,
   "metadata": {},
   "outputs": [
    {
     "data": {
      "text/plain": [
       "(array([1.495e+03, 2.000e+00, 2.000e+00, 0.000e+00, 0.000e+00, 0.000e+00,\n",
       "        0.000e+00, 0.000e+00, 0.000e+00, 1.000e+00]),\n",
       " array([    0.   ,  2747.453,  5494.906,  8242.359, 10989.812, 13737.265,\n",
       "        16484.718, 19232.171, 21979.624, 24727.077, 27474.53 ]),\n",
       " <BarContainer object of 10 artists>)"
      ]
     },
     "execution_count": 11,
     "metadata": {},
     "output_type": "execute_result"
    },
    {
     "data": {
      "image/png": "[encoded data removed]",
      "text/plain": [
       "<Figure size 432x288 with 1 Axes>"
      ]
     },
     "metadata": {
      "needs_background": "light"
     },
     "output_type": "display_data"
    }
   ],
   "source": [
    "plt.hist(df_train.F1)"
   ]
  },
  {
   "cell_type": "markdown",
   "metadata": {},
   "source": [
    "# Column \"F1\" is skewed to left and hence we need to normalixe the feature"
   ]
  },
  {
   "cell_type": "markdown",
   "metadata": {},
   "source": [
    "# Outliers Treatment of \"F1\" Column"
   ]
  },
  {
   "cell_type": "code",
   "execution_count": 12,
   "metadata": {},
   "outputs": [
    {
     "data": {
      "text/plain": [
       "3160.2199567118446"
      ]
     },
     "execution_count": 12,
     "metadata": {},
     "output_type": "execute_result"
    }
   ],
   "source": [
    "\n",
    "Upper = df_train.F1.mean() + (4*df_train.F1.std())\n",
    "Upper"
   ]
  },
  {
   "cell_type": "code",
   "execution_count": 13,
   "metadata": {},
   "outputs": [
    {
     "data": {
      "text/plain": [
       "-3033.0144100451785"
      ]
     },
     "execution_count": 13,
     "metadata": {},
     "output_type": "execute_result"
    }
   ],
   "source": [
    "Lower = df_train.F1.mean() - (4*df_train.F1.std())\n",
    "Lower"
   ]
  },
  {
   "cell_type": "code",
   "execution_count": 14,
   "metadata": {},
   "outputs": [],
   "source": [
    "#Training dataset\n",
    "df_train[df_train.F1 > Upper] = df_train.F1.median()\n",
    "#Test Dataset\n",
    "df_test[df_test.F1 > Upper] = df_test.F1.median()"
   ]
  },
  {
   "cell_type": "markdown",
   "metadata": {},
   "source": [
    "# One Hot Encoding to treat column \"F8\" on train as well as test Dataset"
   ]
  },
  {
   "cell_type": "code",
   "execution_count": 15,
   "metadata": {},
   "outputs": [
    {
     "data": {
      "text/html": [
       "<div>\n",
       "<style scoped>\n",
       "    .dataframe tbody tr th:only-of-type {\n",
       "        vertical-align: middle;\n",
       "    }\n",
       "\n",
       "    .dataframe tbody tr th {\n",
       "        vertical-align: top;\n",
       "    }\n",
       "\n",
       "    .dataframe thead th {\n",
       "        text-align: right;\n",
       "    }\n",
       "</style>\n",
       "<table border=\"1\" class=\"dataframe\">\n",
       "  <thead>\n",
       "    <tr style=\"text-align: right;\">\n",
       "      <th></th>\n",
       "      <th>F1</th>\n",
       "      <th>F2</th>\n",
       "      <th>F3</th>\n",
       "      <th>F4</th>\n",
       "      <th>F5</th>\n",
       "      <th>F6</th>\n",
       "      <th>F7</th>\n",
       "      <th>F9</th>\n",
       "      <th>F10</th>\n",
       "      <th>F11</th>\n",
       "      <th>...</th>\n",
       "      <th>F13</th>\n",
       "      <th>F14</th>\n",
       "      <th>F15</th>\n",
       "      <th>F16</th>\n",
       "      <th>Target</th>\n",
       "      <th>1.01</th>\n",
       "      <th>Europe</th>\n",
       "      <th>Rest</th>\n",
       "      <th>UK</th>\n",
       "      <th>USA</th>\n",
       "    </tr>\n",
       "  </thead>\n",
       "  <tbody>\n",
       "    <tr>\n",
       "      <th>0</th>\n",
       "      <td>0.00</td>\n",
       "      <td>1.73</td>\n",
       "      <td>3.14</td>\n",
       "      <td>5.73</td>\n",
       "      <td>-5.48</td>\n",
       "      <td>-743.61</td>\n",
       "      <td>152.20</td>\n",
       "      <td>3.0</td>\n",
       "      <td>1577.82</td>\n",
       "      <td>-383.82</td>\n",
       "      <td>...</td>\n",
       "      <td>-2289.14</td>\n",
       "      <td>-19.69</td>\n",
       "      <td>0.0</td>\n",
       "      <td>25354.83</td>\n",
       "      <td>167.75</td>\n",
       "      <td>0</td>\n",
       "      <td>1</td>\n",
       "      <td>0</td>\n",
       "      <td>0</td>\n",
       "      <td>0</td>\n",
       "    </tr>\n",
       "    <tr>\n",
       "      <th>1</th>\n",
       "      <td>9.84</td>\n",
       "      <td>3.46</td>\n",
       "      <td>6.02</td>\n",
       "      <td>14.42</td>\n",
       "      <td>-10.94</td>\n",
       "      <td>-820.35</td>\n",
       "      <td>68.56</td>\n",
       "      <td>4.0</td>\n",
       "      <td>1884.69</td>\n",
       "      <td>-488.34</td>\n",
       "      <td>...</td>\n",
       "      <td>-2899.20</td>\n",
       "      <td>-19.46</td>\n",
       "      <td>4.0</td>\n",
       "      <td>32380.17</td>\n",
       "      <td>704.46</td>\n",
       "      <td>0</td>\n",
       "      <td>0</td>\n",
       "      <td>1</td>\n",
       "      <td>0</td>\n",
       "      <td>0</td>\n",
       "    </tr>\n",
       "  </tbody>\n",
       "</table>\n",
       "<p>2 rows × 21 columns</p>\n",
       "</div>"
      ],
      "text/plain": [
       "     F1    F2    F3     F4     F5      F6      F7   F9      F10     F11  ...  \\\n",
       "0  0.00  1.73  3.14   5.73  -5.48 -743.61  152.20  3.0  1577.82 -383.82  ...   \n",
       "1  9.84  3.46  6.02  14.42 -10.94 -820.35   68.56  4.0  1884.69 -488.34  ...   \n",
       "\n",
       "       F13    F14  F15       F16  Target  1.01  Europe  Rest  UK  USA  \n",
       "0 -2289.14 -19.69  0.0  25354.83  167.75     0       1     0   0    0  \n",
       "1 -2899.20 -19.46  4.0  32380.17  704.46     0       0     1   0    0  \n",
       "\n",
       "[2 rows x 21 columns]"
      ]
     },
     "execution_count": 15,
     "metadata": {},
     "output_type": "execute_result"
    }
   ],
   "source": [
    "#Train dataset\n",
    "one_hot_train = pd.get_dummies(df_train['F8'])\n",
    "#Join with df_train\n",
    "df_train = df_train.join(one_hot_train)\n",
    "#droping unwanted columns\n",
    "df_train = df_train.drop({'F8'},axis = 1)\n",
    "df_train.head(2)"
   ]
  },
  {
   "cell_type": "code",
   "execution_count": 16,
   "metadata": {},
   "outputs": [
    {
     "data": {
      "text/html": [
       "<div>\n",
       "<style scoped>\n",
       "    .dataframe tbody tr th:only-of-type {\n",
       "        vertical-align: middle;\n",
       "    }\n",
       "\n",
       "    .dataframe tbody tr th {\n",
       "        vertical-align: top;\n",
       "    }\n",
       "\n",
       "    .dataframe thead th {\n",
       "        text-align: right;\n",
       "    }\n",
       "</style>\n",
       "<table border=\"1\" class=\"dataframe\">\n",
       "  <thead>\n",
       "    <tr style=\"text-align: right;\">\n",
       "      <th></th>\n",
       "      <th>F1</th>\n",
       "      <th>F2</th>\n",
       "      <th>F3</th>\n",
       "      <th>F4</th>\n",
       "      <th>F5</th>\n",
       "      <th>F6</th>\n",
       "      <th>F7</th>\n",
       "      <th>F9</th>\n",
       "      <th>F10</th>\n",
       "      <th>F11</th>\n",
       "      <th>...</th>\n",
       "      <th>F13</th>\n",
       "      <th>F14</th>\n",
       "      <th>F15</th>\n",
       "      <th>F16</th>\n",
       "      <th>Target</th>\n",
       "      <th>1.01</th>\n",
       "      <th>Europe</th>\n",
       "      <th>Rest</th>\n",
       "      <th>UK</th>\n",
       "      <th>USA</th>\n",
       "    </tr>\n",
       "  </thead>\n",
       "  <tbody>\n",
       "    <tr>\n",
       "      <th>0</th>\n",
       "      <td>0.00</td>\n",
       "      <td>1.73</td>\n",
       "      <td>3.14</td>\n",
       "      <td>5.73</td>\n",
       "      <td>-5.48</td>\n",
       "      <td>-743.61</td>\n",
       "      <td>152.20</td>\n",
       "      <td>3.0</td>\n",
       "      <td>1577.82</td>\n",
       "      <td>-383.82</td>\n",
       "      <td>...</td>\n",
       "      <td>-2289.14</td>\n",
       "      <td>-19.69</td>\n",
       "      <td>0.0</td>\n",
       "      <td>25354.83</td>\n",
       "      <td>117.866026</td>\n",
       "      <td>0</td>\n",
       "      <td>1</td>\n",
       "      <td>0</td>\n",
       "      <td>0</td>\n",
       "      <td>0</td>\n",
       "    </tr>\n",
       "    <tr>\n",
       "      <th>1</th>\n",
       "      <td>9.84</td>\n",
       "      <td>3.46</td>\n",
       "      <td>6.02</td>\n",
       "      <td>14.42</td>\n",
       "      <td>-10.94</td>\n",
       "      <td>-820.35</td>\n",
       "      <td>68.56</td>\n",
       "      <td>4.0</td>\n",
       "      <td>1884.69</td>\n",
       "      <td>-488.34</td>\n",
       "      <td>...</td>\n",
       "      <td>-2899.20</td>\n",
       "      <td>-19.46</td>\n",
       "      <td>4.0</td>\n",
       "      <td>32380.17</td>\n",
       "      <td>1648.249580</td>\n",
       "      <td>0</td>\n",
       "      <td>0</td>\n",
       "      <td>1</td>\n",
       "      <td>0</td>\n",
       "      <td>0</td>\n",
       "    </tr>\n",
       "  </tbody>\n",
       "</table>\n",
       "<p>2 rows × 21 columns</p>\n",
       "</div>"
      ],
      "text/plain": [
       "     F1    F2    F3     F4     F5      F6      F7   F9      F10     F11  ...  \\\n",
       "0  0.00  1.73  3.14   5.73  -5.48 -743.61  152.20  3.0  1577.82 -383.82  ...   \n",
       "1  9.84  3.46  6.02  14.42 -10.94 -820.35   68.56  4.0  1884.69 -488.34  ...   \n",
       "\n",
       "       F13    F14  F15       F16       Target  1.01  Europe  Rest  UK  USA  \n",
       "0 -2289.14 -19.69  0.0  25354.83   117.866026     0       1     0   0    0  \n",
       "1 -2899.20 -19.46  4.0  32380.17  1648.249580     0       0     1   0    0  \n",
       "\n",
       "[2 rows x 21 columns]"
      ]
     },
     "execution_count": 16,
     "metadata": {},
     "output_type": "execute_result"
    }
   ],
   "source": [
    "#Test dataset\n",
    "one_hot_test = pd.get_dummies(df_test['F8'])\n",
    "#Join with df_test\n",
    "df_test = df_test.join(one_hot_test)\n",
    "#droping unwanted columns\n",
    "df_test = df_test.drop({'F8'},axis = 1)\n",
    "df_test.head(2)"
   ]
  },
  {
   "cell_type": "markdown",
   "metadata": {},
   "source": [
    "# Split the dataset and Normalize the Features"
   ]
  },
  {
   "cell_type": "code",
   "execution_count": 17,
   "metadata": {},
   "outputs": [],
   "source": [
    "from sklearn import preprocessing\n",
    "X1= df_train.drop({'Target'},axis = 1)\n",
    "y1 = df_train[\"Target\"]\n",
    "min_max_scaler = preprocessing.MinMaxScaler()\n",
    "X1_scaler = min_max_scaler.fit_transform(X1)"
   ]
  },
  {
   "cell_type": "code",
   "execution_count": 18,
   "metadata": {},
   "outputs": [
    {
     "data": {
      "text/html": [
       "<div>\n",
       "<style scoped>\n",
       "    .dataframe tbody tr th:only-of-type {\n",
       "        vertical-align: middle;\n",
       "    }\n",
       "\n",
       "    .dataframe tbody tr th {\n",
       "        vertical-align: top;\n",
       "    }\n",
       "\n",
       "    .dataframe thead th {\n",
       "        text-align: right;\n",
       "    }\n",
       "</style>\n",
       "<table border=\"1\" class=\"dataframe\">\n",
       "  <thead>\n",
       "    <tr style=\"text-align: right;\">\n",
       "      <th></th>\n",
       "      <th>F1</th>\n",
       "      <th>F2</th>\n",
       "      <th>F3</th>\n",
       "      <th>F4</th>\n",
       "      <th>F5</th>\n",
       "      <th>F6</th>\n",
       "      <th>F7</th>\n",
       "      <th>F9</th>\n",
       "      <th>F10</th>\n",
       "      <th>F11</th>\n",
       "      <th>F12</th>\n",
       "      <th>F13</th>\n",
       "      <th>F14</th>\n",
       "      <th>F15</th>\n",
       "      <th>F16</th>\n",
       "      <th>1.01</th>\n",
       "      <th>Europe</th>\n",
       "      <th>Rest</th>\n",
       "      <th>UK</th>\n",
       "      <th>USA</th>\n",
       "    </tr>\n",
       "  </thead>\n",
       "  <tbody>\n",
       "    <tr>\n",
       "      <th>0</th>\n",
       "      <td>0.00</td>\n",
       "      <td>1.73</td>\n",
       "      <td>3.14</td>\n",
       "      <td>5.73</td>\n",
       "      <td>-5.48</td>\n",
       "      <td>-743.61</td>\n",
       "      <td>152.20</td>\n",
       "      <td>3.0</td>\n",
       "      <td>1577.82</td>\n",
       "      <td>-383.82</td>\n",
       "      <td>12.0</td>\n",
       "      <td>-2289.14</td>\n",
       "      <td>-19.69</td>\n",
       "      <td>0.0</td>\n",
       "      <td>25354.83</td>\n",
       "      <td>0</td>\n",
       "      <td>1</td>\n",
       "      <td>0</td>\n",
       "      <td>0</td>\n",
       "      <td>0</td>\n",
       "    </tr>\n",
       "    <tr>\n",
       "      <th>1</th>\n",
       "      <td>9.84</td>\n",
       "      <td>3.46</td>\n",
       "      <td>6.02</td>\n",
       "      <td>14.42</td>\n",
       "      <td>-10.94</td>\n",
       "      <td>-820.35</td>\n",
       "      <td>68.56</td>\n",
       "      <td>4.0</td>\n",
       "      <td>1884.69</td>\n",
       "      <td>-488.34</td>\n",
       "      <td>6.0</td>\n",
       "      <td>-2899.20</td>\n",
       "      <td>-19.46</td>\n",
       "      <td>4.0</td>\n",
       "      <td>32380.17</td>\n",
       "      <td>0</td>\n",
       "      <td>0</td>\n",
       "      <td>1</td>\n",
       "      <td>0</td>\n",
       "      <td>0</td>\n",
       "    </tr>\n",
       "  </tbody>\n",
       "</table>\n",
       "</div>"
      ],
      "text/plain": [
       "     F1    F2    F3     F4     F5      F6      F7   F9      F10     F11   F12  \\\n",
       "0  0.00  1.73  3.14   5.73  -5.48 -743.61  152.20  3.0  1577.82 -383.82  12.0   \n",
       "1  9.84  3.46  6.02  14.42 -10.94 -820.35   68.56  4.0  1884.69 -488.34   6.0   \n",
       "\n",
       "       F13    F14  F15       F16  1.01  Europe  Rest  UK  USA  \n",
       "0 -2289.14 -19.69  0.0  25354.83     0       1     0   0    0  \n",
       "1 -2899.20 -19.46  4.0  32380.17     0       0     1   0    0  "
      ]
     },
     "execution_count": 18,
     "metadata": {},
     "output_type": "execute_result"
    }
   ],
   "source": [
    "X1.head(2)"
   ]
  },
  {
   "cell_type": "code",
   "execution_count": 19,
   "metadata": {},
   "outputs": [
    {
     "data": {
      "text/plain": [
       "(1500, 20)"
      ]
     },
     "execution_count": 19,
     "metadata": {},
     "output_type": "execute_result"
    }
   ],
   "source": [
    "X1.shape"
   ]
  },
  {
   "cell_type": "code",
   "execution_count": 20,
   "metadata": {},
   "outputs": [
    {
     "data": {
      "text/plain": [
       "(1500,)"
      ]
     },
     "execution_count": 20,
     "metadata": {},
     "output_type": "execute_result"
    }
   ],
   "source": [
    "y1.shape"
   ]
  },
  {
   "cell_type": "code",
   "execution_count": 21,
   "metadata": {},
   "outputs": [],
   "source": [
    "from sklearn.model_selection import train_test_split\n",
    "# splitting data training and testing \n",
    "X_train,X_test,y_train,y_test=train_test_split(X1_scaler,y1,test_size=0.30,random_state=0)"
   ]
  },
  {
   "cell_type": "markdown",
   "metadata": {},
   "source": [
    "# Linear Regression"
   ]
  },
  {
   "cell_type": "code",
   "execution_count": 22,
   "metadata": {},
   "outputs": [
    {
     "name": "stdout",
     "output_type": "stream",
     "text": [
      "Mean Absolute Error: 440.68590182607124\n",
      "Mean Squared Error: 317865.8580135597\n",
      "Root Mean Squared Error: 563.7959364996875\n"
     ]
    }
   ],
   "source": [
    "from sklearn import linear_model\n",
    "from sklearn.metrics import mean_squared_error, r2_score\n",
    "\n",
    "# Building LinearRegression model \n",
    "linreg=  linear_model.LinearRegression()\n",
    "linreg.fit(X_train, y_train) \n",
    "# Prediction of test data\n",
    "y_pred= linreg.predict(X_test)  \n",
    "y_pred\n",
    "from sklearn import metrics\n",
    "print('Mean Absolute Error:', metrics.mean_absolute_error(y_test.values, y_pred))\n",
    "print('Mean Squared Error:', metrics.mean_squared_error(y_test.values, y_pred))\n",
    "print('Root Mean Squared Error:', np.sqrt(metrics.mean_squared_error(y_test.values, y_pred)))\n"
   ]
  },
  {
   "cell_type": "code",
   "execution_count": 23,
   "metadata": {},
   "outputs": [
    {
     "data": {
      "text/plain": [
       "0.733682791893418"
      ]
     },
     "execution_count": 23,
     "metadata": {},
     "output_type": "execute_result"
    }
   ],
   "source": [
    "\n",
    "r2_score(y_test, y_pred)"
   ]
  },
  {
   "cell_type": "markdown",
   "metadata": {},
   "source": [
    "# Random Forest Regressor"
   ]
  },
  {
   "cell_type": "code",
   "execution_count": 24,
   "metadata": {},
   "outputs": [],
   "source": [
    "from sklearn.ensemble import RandomForestRegressor"
   ]
  },
  {
   "cell_type": "code",
   "execution_count": 25,
   "metadata": {},
   "outputs": [],
   "source": [
    "ranreg = RandomForestRegressor( random_state=0, n_estimators=100,max_depth=10)"
   ]
  },
  {
   "cell_type": "code",
   "execution_count": 26,
   "metadata": {},
   "outputs": [
    {
     "data": {
      "text/plain": [
       "RandomForestRegressor(max_depth=10, random_state=0)"
      ]
     },
     "execution_count": 26,
     "metadata": {},
     "output_type": "execute_result"
    }
   ],
   "source": [
    "#Train Data\n",
    "ranreg.fit(X_train, y_train)"
   ]
  },
  {
   "cell_type": "code",
   "execution_count": 27,
   "metadata": {},
   "outputs": [],
   "source": [
    "# Test data\n",
    "y_pred=ranreg.predict(X_test)"
   ]
  },
  {
   "cell_type": "code",
   "execution_count": 28,
   "metadata": {},
   "outputs": [
    {
     "data": {
      "text/plain": [
       "0.9444665433459623"
      ]
     },
     "execution_count": 28,
     "metadata": {},
     "output_type": "execute_result"
    }
   ],
   "source": [
    "ranreg.score(X_train, y_train)"
   ]
  },
  {
   "cell_type": "code",
   "execution_count": 29,
   "metadata": {},
   "outputs": [
    {
     "data": {
      "text/plain": [
       "0.6426832252652526"
      ]
     },
     "execution_count": 29,
     "metadata": {},
     "output_type": "execute_result"
    }
   ],
   "source": [
    "ranreg.score(X_test, y_test)"
   ]
  },
  {
   "cell_type": "code",
   "execution_count": 30,
   "metadata": {},
   "outputs": [
    {
     "data": {
      "text/plain": [
       "0.6426832252652526"
      ]
     },
     "execution_count": 30,
     "metadata": {},
     "output_type": "execute_result"
    }
   ],
   "source": [
    "# R2 score\n",
    "r2_score(y_test, y_pred)"
   ]
  },
  {
   "cell_type": "code",
   "execution_count": 31,
   "metadata": {},
   "outputs": [
    {
     "name": "stdout",
     "output_type": "stream",
     "text": [
      "Mean Absolute Error: 488.5188789133052\n",
      "Mean Squared Error: 426479.4002280291\n",
      "Root Mean Squared Error: 653.0539030034421\n"
     ]
    }
   ],
   "source": [
    "\n",
    "from sklearn import metrics\n",
    "print('Mean Absolute Error:', metrics.mean_absolute_error(y_test, y_pred))\n",
    "print('Mean Squared Error:', metrics.mean_squared_error(y_test, y_pred))\n",
    "print('Root Mean Squared Error:', np.sqrt(metrics.mean_squared_error(y_test, y_pred)))"
   ]
  },
  {
   "cell_type": "markdown",
   "metadata": {},
   "source": [
    "# Ridge Regression Hyperparameter tuned after using grid search CV and evaluating each combination of configurations using repeated cross-validation.\n",
    "\n"
   ]
  },
  {
   "cell_type": "code",
   "execution_count": 32,
   "metadata": {},
   "outputs": [],
   "source": [
    "from sklearn.model_selection import GridSearchCV\n",
    "from sklearn.model_selection import RepeatedKFold\n",
    "from sklearn.linear_model import Ridge\n",
    "from numpy import arange"
   ]
  },
  {
   "cell_type": "code",
   "execution_count": 33,
   "metadata": {},
   "outputs": [
    {
     "name": "stdout",
     "output_type": "stream",
     "text": [
      "MAE: -427.103\n",
      "Config: {'alpha': 0.01}\n"
     ]
    }
   ],
   "source": [
    "# define model\n",
    "model = Ridge()\n",
    "# define model evaluation method\n",
    "cv = RepeatedKFold(n_splits=10, n_repeats=3, random_state=1)\n",
    "# define grid\n",
    "grid = dict()\n",
    "grid['alpha'] = arange(0, 1, 0.01)\n",
    "# define search\n",
    "search = GridSearchCV(model, grid, scoring='neg_mean_absolute_error', cv=cv, n_jobs=-1)\n",
    "# perform the search\n",
    "results = search.fit(X_train, y_train)\n",
    "# summarize\n",
    "print('MAE: %.3f' % results.best_score_)\n",
    "print('Config: %s' % results.best_params_)\n"
   ]
  },
  {
   "cell_type": "markdown",
   "metadata": {},
   "source": [
    "# Alpha value = 0.01 for Ridge regression"
   ]
  },
  {
   "cell_type": "code",
   "execution_count": 42,
   "metadata": {},
   "outputs": [
    {
     "name": "stdout",
     "output_type": "stream",
     "text": [
      "Mean Squared Error 281665.00270598935\n",
      "R2 Score 0.7637252304565347\n",
      "Root Mean Squared Error: 530.7212099643176\n"
     ]
    }
   ],
   "source": [
    "rr = Ridge(alpha=0.01)\n",
    "rr.fit(X_train, y_train) \n",
    "pred_train_rr= rr.predict(X_train)\n",
    "print(\"Mean Squared Error\",mean_squared_error(y_train,pred_train_rr))\n",
    "print(\"R2 Score\",r2_score(y_train, pred_train_rr))\n",
    "print('Root Mean Squared Error:', np.sqrt(metrics.mean_squared_error(y_train, pred_train_rr)))\n",
    "# pred_test_rr= rr.predict(X_test)\n",
    "# print(np.sqrt(mean_squared_error(y_test,pred_test_rr))) \n",
    "# print(r2_score(y_test, pred_test_rr))"
   ]
  },
  {
   "cell_type": "markdown",
   "metadata": {},
   "source": [
    "# Test Data P3"
   ]
  },
  {
   "cell_type": "code",
   "execution_count": 35,
   "metadata": {},
   "outputs": [],
   "source": [
    "Xt= df_test.drop({'Target'},axis = 1)\n",
    "min_max_scaler = preprocessing.MinMaxScaler()\n",
    "Xt_scaler = min_max_scaler.fit_transform(Xt)"
   ]
  },
  {
   "cell_type": "markdown",
   "metadata": {},
   "source": [
    "# Predict using Ridge Regressor"
   ]
  },
  {
   "cell_type": "code",
   "execution_count": 36,
   "metadata": {},
   "outputs": [],
   "source": [
    "target = pd.DataFrame(rr.predict(Xt_scaler))"
   ]
  },
  {
   "cell_type": "code",
   "execution_count": 37,
   "metadata": {},
   "outputs": [],
   "source": [
    "test_final=pd.read_csv(\"C:/Users/heera/OneDrive - Heerak/Desktop/CE802 P3/CE802_P3_Data.csv\")"
   ]
  },
  {
   "cell_type": "code",
   "execution_count": 38,
   "metadata": {},
   "outputs": [],
   "source": [
    "result = pd.concat([test_final, target], axis=1)"
   ]
  },
  {
   "cell_type": "code",
   "execution_count": 39,
   "metadata": {},
   "outputs": [
    {
     "data": {
      "text/html": [
       "<div>\n",
       "<style scoped>\n",
       "    .dataframe tbody tr th:only-of-type {\n",
       "        vertical-align: middle;\n",
       "    }\n",
       "\n",
       "    .dataframe tbody tr th {\n",
       "        vertical-align: top;\n",
       "    }\n",
       "\n",
       "    .dataframe thead th {\n",
       "        text-align: right;\n",
       "    }\n",
       "</style>\n",
       "<table border=\"1\" class=\"dataframe\">\n",
       "  <thead>\n",
       "    <tr style=\"text-align: right;\">\n",
       "      <th></th>\n",
       "      <th>F1</th>\n",
       "      <th>F2</th>\n",
       "      <th>F3</th>\n",
       "      <th>F4</th>\n",
       "      <th>F5</th>\n",
       "      <th>F6</th>\n",
       "      <th>F7</th>\n",
       "      <th>F8</th>\n",
       "      <th>F9</th>\n",
       "      <th>F10</th>\n",
       "      <th>F11</th>\n",
       "      <th>F12</th>\n",
       "      <th>F13</th>\n",
       "      <th>F14</th>\n",
       "      <th>F15</th>\n",
       "      <th>F16</th>\n",
       "      <th>Target</th>\n",
       "    </tr>\n",
       "  </thead>\n",
       "  <tbody>\n",
       "    <tr>\n",
       "      <th>0</th>\n",
       "      <td>0.00</td>\n",
       "      <td>1.73</td>\n",
       "      <td>3.14</td>\n",
       "      <td>5.73</td>\n",
       "      <td>-5.48</td>\n",
       "      <td>-743.61</td>\n",
       "      <td>152.20</td>\n",
       "      <td>Europe</td>\n",
       "      <td>3</td>\n",
       "      <td>1577.82</td>\n",
       "      <td>-383.82</td>\n",
       "      <td>12</td>\n",
       "      <td>-2289.14</td>\n",
       "      <td>-19.69</td>\n",
       "      <td>High</td>\n",
       "      <td>25354.83</td>\n",
       "      <td>117.866026</td>\n",
       "    </tr>\n",
       "    <tr>\n",
       "      <th>1</th>\n",
       "      <td>9.84</td>\n",
       "      <td>3.46</td>\n",
       "      <td>6.02</td>\n",
       "      <td>14.42</td>\n",
       "      <td>-10.94</td>\n",
       "      <td>-820.35</td>\n",
       "      <td>68.56</td>\n",
       "      <td>Rest</td>\n",
       "      <td>4</td>\n",
       "      <td>1884.69</td>\n",
       "      <td>-488.34</td>\n",
       "      <td>6</td>\n",
       "      <td>-2899.20</td>\n",
       "      <td>-19.46</td>\n",
       "      <td>Very low</td>\n",
       "      <td>32380.17</td>\n",
       "      <td>1648.249580</td>\n",
       "    </tr>\n",
       "  </tbody>\n",
       "</table>\n",
       "</div>"
      ],
      "text/plain": [
       "     F1    F2    F3     F4     F5      F6      F7      F8  F9      F10  \\\n",
       "0  0.00  1.73  3.14   5.73  -5.48 -743.61  152.20  Europe   3  1577.82   \n",
       "1  9.84  3.46  6.02  14.42 -10.94 -820.35   68.56    Rest   4  1884.69   \n",
       "\n",
       "      F11  F12      F13    F14       F15       F16       Target  \n",
       "0 -383.82   12 -2289.14 -19.69      High  25354.83   117.866026  \n",
       "1 -488.34    6 -2899.20 -19.46  Very low  32380.17  1648.249580  "
      ]
     },
     "execution_count": 39,
     "metadata": {},
     "output_type": "execute_result"
    }
   ],
   "source": [
    "\n",
    "test_final['Target']=target\n",
    "test_final.head(2)"
   ]
  },
  {
   "cell_type": "code",
   "execution_count": 40,
   "metadata": {},
   "outputs": [],
   "source": [
    "\n",
    "# write data into csv\n",
    "test_final.to_csv('CE802_P3_Test.csv', encoding='utf-8', index=False)"
   ]
  },
  {
   "cell_type": "code",
   "execution_count": 46,
   "metadata": {},
   "outputs": [],
   "source": [
    "yt=test_final[['Target']]"
   ]
  },
  {
   "cell_type": "code",
   "execution_count": 47,
   "metadata": {},
   "outputs": [
    {
     "data": {
      "text/html": [
       "<div>\n",
       "<style scoped>\n",
       "    .dataframe tbody tr th:only-of-type {\n",
       "        vertical-align: middle;\n",
       "    }\n",
       "\n",
       "    .dataframe tbody tr th {\n",
       "        vertical-align: top;\n",
       "    }\n",
       "\n",
       "    .dataframe thead th {\n",
       "        text-align: right;\n",
       "    }\n",
       "</style>\n",
       "<table border=\"1\" class=\"dataframe\">\n",
       "  <thead>\n",
       "    <tr style=\"text-align: right;\">\n",
       "      <th></th>\n",
       "      <th>Target</th>\n",
       "    </tr>\n",
       "  </thead>\n",
       "  <tbody>\n",
       "    <tr>\n",
       "      <th>0</th>\n",
       "      <td>117.866026</td>\n",
       "    </tr>\n",
       "    <tr>\n",
       "      <th>1</th>\n",
       "      <td>1648.249580</td>\n",
       "    </tr>\n",
       "    <tr>\n",
       "      <th>2</th>\n",
       "      <td>738.396867</td>\n",
       "    </tr>\n",
       "    <tr>\n",
       "      <th>3</th>\n",
       "      <td>1395.574696</td>\n",
       "    </tr>\n",
       "    <tr>\n",
       "      <th>4</th>\n",
       "      <td>461.266658</td>\n",
       "    </tr>\n",
       "    <tr>\n",
       "      <th>...</th>\n",
       "      <td>...</td>\n",
       "    </tr>\n",
       "    <tr>\n",
       "      <th>1495</th>\n",
       "      <td>1919.054665</td>\n",
       "    </tr>\n",
       "    <tr>\n",
       "      <th>1496</th>\n",
       "      <td>1172.433048</td>\n",
       "    </tr>\n",
       "    <tr>\n",
       "      <th>1497</th>\n",
       "      <td>274.833710</td>\n",
       "    </tr>\n",
       "    <tr>\n",
       "      <th>1498</th>\n",
       "      <td>404.977052</td>\n",
       "    </tr>\n",
       "    <tr>\n",
       "      <th>1499</th>\n",
       "      <td>-32.099741</td>\n",
       "    </tr>\n",
       "  </tbody>\n",
       "</table>\n",
       "<p>1500 rows × 1 columns</p>\n",
       "</div>"
      ],
      "text/plain": [
       "           Target\n",
       "0      117.866026\n",
       "1     1648.249580\n",
       "2      738.396867\n",
       "3     1395.574696\n",
       "4      461.266658\n",
       "...           ...\n",
       "1495  1919.054665\n",
       "1496  1172.433048\n",
       "1497   274.833710\n",
       "1498   404.977052\n",
       "1499   -32.099741\n",
       "\n",
       "[1500 rows x 1 columns]"
      ]
     },
     "execution_count": 47,
     "metadata": {},
     "output_type": "execute_result"
    }
   ],
   "source": [
    "yt"
   ]
  },
  {
   "cell_type": "code",
   "execution_count": 48,
   "metadata": {},
   "outputs": [],
   "source": [
    "X_traint,X_testt,y_traint,y_testt=train_test_split(Xt_scaler,yt,test_size=0.30,random_state=0)"
   ]
  },
  {
   "cell_type": "code",
   "execution_count": 49,
   "metadata": {},
   "outputs": [
    {
     "name": "stdout",
     "output_type": "stream",
     "text": [
      "Mean Squared Error 0.18417721004523896\n",
      "R2 Score 0.9999997975431212\n",
      "Root Mean Squared Error: 0.42915872360379553\n"
     ]
    }
   ],
   "source": [
    "rr = Ridge(alpha=0.01)\n",
    "rr.fit(X_traint, y_traint) \n",
    "pred_train_rrt= rr.predict(X_traint)\n",
    "print(\"Mean Squared Error\",mean_squared_error(y_traint,pred_train_rrt))\n",
    "print(\"R2 Score\",r2_score(y_traint, pred_train_rrt))\n",
    "print('Root Mean Squared Error:', np.sqrt(metrics.mean_squared_error(y_traint, pred_train_rrt)))"
   ]
  },
  {
   "cell_type": "code",
   "execution_count": 50,
   "metadata": {},
   "outputs": [
    {
     "name": "stdout",
     "output_type": "stream",
     "text": [
      "Mean Squared Error 35771.11806424409\n",
      "R2 Score 0.9606785827968309\n",
      "Root Mean Squared Error: 189.13254099769318\n"
     ]
    }
   ],
   "source": [
    "ranreg = RandomForestRegressor( random_state=0, n_estimators=100,max_depth=10)\n",
    "ranreg.fit(X_traint, y_traint) \n",
    "pred_train_rrtt= ranreg.predict(X_traint)\n",
    "print(\"Mean Squared Error\",mean_squared_error(y_traint,pred_train_rrtt))\n",
    "print(\"R2 Score\",r2_score(y_traint, pred_train_rrtt))\n",
    "print('Root Mean Squared Error:', np.sqrt(metrics.mean_squared_error(y_traint, pred_train_rrtt)))"
   ]
  },
  {
   "cell_type": "code",
   "execution_count": null,
   "metadata": {},
   "outputs": [],
   "source": []
  }
 ],
 "metadata": {
  "kernelspec": {
   "display_name": "Python 3",
   "language": "python",
   "name": "python3"
  },
  "language_info": {
   "codemirror_mode": {
    "name": "ipython",
    "version": 3
   },
   "file_extension": ".py",
   "mimetype": "text/x-python",
   "name": "python",
   "nbconvert_exporter": "python",
   "pygments_lexer": "ipython3",
   "version": "3.8.5"
  }
 },
 "nbformat": 4,
 "nbformat_minor": 4
}

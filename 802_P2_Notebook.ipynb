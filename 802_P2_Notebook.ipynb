{
 "cells": [
  {
   "cell_type": "code",
   "execution_count": 1,
   "metadata": {},
   "outputs": [],
   "source": [
    "import pandas as pd\n",
    "import numpy as np\n",
    "import warnings\n",
    "warnings.filterwarnings(\"ignore\")\n",
    "import matplotlib.pyplot as plt\n",
    "import seaborn as sns"
   ]
  },
  {
   "cell_type": "markdown",
   "metadata": {},
   "source": [
    "# Import P2 Dataset\n",
    "\n"
   ]
  },
  {
   "cell_type": "code",
   "execution_count": 2,
   "metadata": {},
   "outputs": [
    {
     "data": {
      "text/html": [
       "<div>\n",
       "<style scoped>\n",
       "    .dataframe tbody tr th:only-of-type {\n",
       "        vertical-align: middle;\n",
       "    }\n",
       "\n",
       "    .dataframe tbody tr th {\n",
       "        vertical-align: top;\n",
       "    }\n",
       "\n",
       "    .dataframe thead th {\n",
       "        text-align: right;\n",
       "    }\n",
       "</style>\n",
       "<table border=\"1\" class=\"dataframe\">\n",
       "  <thead>\n",
       "    <tr style=\"text-align: right;\">\n",
       "      <th></th>\n",
       "      <th>F1</th>\n",
       "      <th>F2</th>\n",
       "      <th>F3</th>\n",
       "      <th>F4</th>\n",
       "      <th>F5</th>\n",
       "      <th>F6</th>\n",
       "      <th>F7</th>\n",
       "      <th>F8</th>\n",
       "      <th>F9</th>\n",
       "      <th>F10</th>\n",
       "      <th>F11</th>\n",
       "      <th>F12</th>\n",
       "      <th>F13</th>\n",
       "      <th>F14</th>\n",
       "      <th>F15</th>\n",
       "      <th>Class</th>\n",
       "    </tr>\n",
       "  </thead>\n",
       "  <tbody>\n",
       "    <tr>\n",
       "      <th>0</th>\n",
       "      <td>4.92</td>\n",
       "      <td>-13.23</td>\n",
       "      <td>330</td>\n",
       "      <td>13.22</td>\n",
       "      <td>-5.51</td>\n",
       "      <td>41.10</td>\n",
       "      <td>16.72</td>\n",
       "      <td>-56.98</td>\n",
       "      <td>-748.72</td>\n",
       "      <td>20</td>\n",
       "      <td>9.75</td>\n",
       "      <td>259.66</td>\n",
       "      <td>8.00</td>\n",
       "      <td>-0.35</td>\n",
       "      <td>4.76</td>\n",
       "      <td>False</td>\n",
       "    </tr>\n",
       "    <tr>\n",
       "      <th>1</th>\n",
       "      <td>-9.33</td>\n",
       "      <td>-27.72</td>\n",
       "      <td>3</td>\n",
       "      <td>12.78</td>\n",
       "      <td>-9.12</td>\n",
       "      <td>5.31</td>\n",
       "      <td>9.90</td>\n",
       "      <td>-30.98</td>\n",
       "      <td>-436.72</td>\n",
       "      <td>2</td>\n",
       "      <td>-1.56</td>\n",
       "      <td>131.66</td>\n",
       "      <td>0.76</td>\n",
       "      <td>1.79</td>\n",
       "      <td>NaN</td>\n",
       "      <td>False</td>\n",
       "    </tr>\n",
       "    <tr>\n",
       "      <th>2</th>\n",
       "      <td>-15.09</td>\n",
       "      <td>-26.28</td>\n",
       "      <td>6</td>\n",
       "      <td>13.54</td>\n",
       "      <td>-7.75</td>\n",
       "      <td>5.67</td>\n",
       "      <td>9.93</td>\n",
       "      <td>-34.98</td>\n",
       "      <td>-482.72</td>\n",
       "      <td>2</td>\n",
       "      <td>-2.58</td>\n",
       "      <td>63.66</td>\n",
       "      <td>0.64</td>\n",
       "      <td>2.02</td>\n",
       "      <td>NaN</td>\n",
       "      <td>True</td>\n",
       "    </tr>\n",
       "    <tr>\n",
       "      <th>3</th>\n",
       "      <td>-18.09</td>\n",
       "      <td>-24.60</td>\n",
       "      <td>30</td>\n",
       "      <td>13.28</td>\n",
       "      <td>-8.61</td>\n",
       "      <td>3.51</td>\n",
       "      <td>10.02</td>\n",
       "      <td>-30.98</td>\n",
       "      <td>-414.72</td>\n",
       "      <td>2</td>\n",
       "      <td>-7.08</td>\n",
       "      <td>133.66</td>\n",
       "      <td>0.57</td>\n",
       "      <td>1.98</td>\n",
       "      <td>NaN</td>\n",
       "      <td>True</td>\n",
       "    </tr>\n",
       "    <tr>\n",
       "      <th>4</th>\n",
       "      <td>6.12</td>\n",
       "      <td>-8.64</td>\n",
       "      <td>300</td>\n",
       "      <td>14.94</td>\n",
       "      <td>-1.97</td>\n",
       "      <td>29.40</td>\n",
       "      <td>19.32</td>\n",
       "      <td>-36.98</td>\n",
       "      <td>-428.72</td>\n",
       "      <td>20</td>\n",
       "      <td>9.09</td>\n",
       "      <td>229.66</td>\n",
       "      <td>6.70</td>\n",
       "      <td>-3.83</td>\n",
       "      <td>NaN</td>\n",
       "      <td>True</td>\n",
       "    </tr>\n",
       "  </tbody>\n",
       "</table>\n",
       "</div>"
      ],
      "text/plain": [
       "      F1     F2   F3     F4    F5     F6     F7     F8      F9  F10   F11  \\\n",
       "0   4.92 -13.23  330  13.22 -5.51  41.10  16.72 -56.98 -748.72   20  9.75   \n",
       "1  -9.33 -27.72    3  12.78 -9.12   5.31   9.90 -30.98 -436.72    2 -1.56   \n",
       "2 -15.09 -26.28    6  13.54 -7.75   5.67   9.93 -34.98 -482.72    2 -2.58   \n",
       "3 -18.09 -24.60   30  13.28 -8.61   3.51  10.02 -30.98 -414.72    2 -7.08   \n",
       "4   6.12  -8.64  300  14.94 -1.97  29.40  19.32 -36.98 -428.72   20  9.09   \n",
       "\n",
       "      F12   F13   F14   F15  Class  \n",
       "0  259.66  8.00 -0.35  4.76  False  \n",
       "1  131.66  0.76  1.79   NaN  False  \n",
       "2   63.66  0.64  2.02   NaN   True  \n",
       "3  133.66  0.57  1.98   NaN   True  \n",
       "4  229.66  6.70 -3.83   NaN   True  "
      ]
     },
     "execution_count": 2,
     "metadata": {},
     "output_type": "execute_result"
    }
   ],
   "source": [
    "df_train = pd.read_csv(\"C:/Users/heera/OneDrive - Heerak/Desktop/CE802 P2/CE802_P2_Data.csv\")\n",
    "df_train.head()"
   ]
  },
  {
   "cell_type": "markdown",
   "metadata": {},
   "source": [
    "# Checking Null / Missing values"
   ]
  },
  {
   "cell_type": "code",
   "execution_count": 3,
   "metadata": {},
   "outputs": [
    {
     "data": {
      "text/plain": [
       "F1         0\n",
       "F2         0\n",
       "F3         0\n",
       "F4         0\n",
       "F5         0\n",
       "F6         0\n",
       "F7         0\n",
       "F8         0\n",
       "F9         0\n",
       "F10        0\n",
       "F11        0\n",
       "F12        0\n",
       "F13        0\n",
       "F14        0\n",
       "F15      750\n",
       "Class      0\n",
       "dtype: int64"
      ]
     },
     "execution_count": 3,
     "metadata": {},
     "output_type": "execute_result"
    }
   ],
   "source": [
    "df_train.isnull().sum()"
   ]
  },
  {
   "cell_type": "code",
   "execution_count": 56,
   "metadata": {},
   "outputs": [
    {
     "data": {
      "text/html": [
       "<div>\n",
       "<style scoped>\n",
       "    .dataframe tbody tr th:only-of-type {\n",
       "        vertical-align: middle;\n",
       "    }\n",
       "\n",
       "    .dataframe tbody tr th {\n",
       "        vertical-align: top;\n",
       "    }\n",
       "\n",
       "    .dataframe thead th {\n",
       "        text-align: right;\n",
       "    }\n",
       "</style>\n",
       "<table border=\"1\" class=\"dataframe\">\n",
       "  <thead>\n",
       "    <tr style=\"text-align: right;\">\n",
       "      <th></th>\n",
       "      <th>F1</th>\n",
       "      <th>F2</th>\n",
       "      <th>F3</th>\n",
       "      <th>F4</th>\n",
       "      <th>F5</th>\n",
       "      <th>F6</th>\n",
       "      <th>F7</th>\n",
       "      <th>F8</th>\n",
       "      <th>F9</th>\n",
       "      <th>F10</th>\n",
       "      <th>F11</th>\n",
       "      <th>F12</th>\n",
       "      <th>F13</th>\n",
       "      <th>F14</th>\n",
       "      <th>F15</th>\n",
       "      <th>Class</th>\n",
       "    </tr>\n",
       "  </thead>\n",
       "  <tbody>\n",
       "    <tr>\n",
       "      <th>count</th>\n",
       "      <td>1500.000000</td>\n",
       "      <td>1500.000000</td>\n",
       "      <td>1500.000000</td>\n",
       "      <td>1500.000000</td>\n",
       "      <td>1500.000000</td>\n",
       "      <td>1500.00000</td>\n",
       "      <td>1500.000000</td>\n",
       "      <td>1500.00000</td>\n",
       "      <td>1500.000000</td>\n",
       "      <td>1500.000000</td>\n",
       "      <td>1500.000000</td>\n",
       "      <td>1500.000000</td>\n",
       "      <td>1500.000000</td>\n",
       "      <td>1500.000000</td>\n",
       "      <td>1500.000000</td>\n",
       "      <td>1500.000000</td>\n",
       "    </tr>\n",
       "    <tr>\n",
       "      <th>mean</th>\n",
       "      <td>-4.569780</td>\n",
       "      <td>-20.474600</td>\n",
       "      <td>109.024667</td>\n",
       "      <td>12.744707</td>\n",
       "      <td>-6.248787</td>\n",
       "      <td>14.90628</td>\n",
       "      <td>13.107813</td>\n",
       "      <td>-42.25600</td>\n",
       "      <td>-557.610667</td>\n",
       "      <td>10.806667</td>\n",
       "      <td>3.878840</td>\n",
       "      <td>108.488000</td>\n",
       "      <td>3.854280</td>\n",
       "      <td>0.147533</td>\n",
       "      <td>5.783013</td>\n",
       "      <td>0.460667</td>\n",
       "    </tr>\n",
       "    <tr>\n",
       "      <th>std</th>\n",
       "      <td>7.662813</td>\n",
       "      <td>7.635517</td>\n",
       "      <td>117.334580</td>\n",
       "      <td>2.217929</td>\n",
       "      <td>2.540644</td>\n",
       "      <td>12.97563</td>\n",
       "      <td>3.166909</td>\n",
       "      <td>14.31863</td>\n",
       "      <td>142.833748</td>\n",
       "      <td>9.009814</td>\n",
       "      <td>7.541549</td>\n",
       "      <td>80.376896</td>\n",
       "      <td>3.465276</td>\n",
       "      <td>2.491236</td>\n",
       "      <td>0.710488</td>\n",
       "      <td>0.498617</td>\n",
       "    </tr>\n",
       "    <tr>\n",
       "      <th>min</th>\n",
       "      <td>-29.760000</td>\n",
       "      <td>-45.570000</td>\n",
       "      <td>0.000000</td>\n",
       "      <td>8.020000</td>\n",
       "      <td>-15.280000</td>\n",
       "      <td>0.00000</td>\n",
       "      <td>9.420000</td>\n",
       "      <td>-76.98000</td>\n",
       "      <td>-888.720000</td>\n",
       "      <td>0.000000</td>\n",
       "      <td>-19.110000</td>\n",
       "      <td>-120.340000</td>\n",
       "      <td>0.000000</td>\n",
       "      <td>-4.360000</td>\n",
       "      <td>3.060000</td>\n",
       "      <td>0.000000</td>\n",
       "    </tr>\n",
       "    <tr>\n",
       "      <th>25%</th>\n",
       "      <td>-10.260000</td>\n",
       "      <td>-26.130000</td>\n",
       "      <td>15.000000</td>\n",
       "      <td>11.440000</td>\n",
       "      <td>-8.130000</td>\n",
       "      <td>3.72000</td>\n",
       "      <td>10.140000</td>\n",
       "      <td>-56.98000</td>\n",
       "      <td>-678.720000</td>\n",
       "      <td>2.000000</td>\n",
       "      <td>-1.950000</td>\n",
       "      <td>71.660000</td>\n",
       "      <td>0.600000</td>\n",
       "      <td>-2.230000</td>\n",
       "      <td>5.783013</td>\n",
       "      <td>0.000000</td>\n",
       "    </tr>\n",
       "    <tr>\n",
       "      <th>50%</th>\n",
       "      <td>-7.560000</td>\n",
       "      <td>-23.445000</td>\n",
       "      <td>50.000000</td>\n",
       "      <td>12.440000</td>\n",
       "      <td>-7.230000</td>\n",
       "      <td>6.21000</td>\n",
       "      <td>10.500000</td>\n",
       "      <td>-34.98000</td>\n",
       "      <td>-486.720000</td>\n",
       "      <td>2.000000</td>\n",
       "      <td>0.930000</td>\n",
       "      <td>97.660000</td>\n",
       "      <td>1.020000</td>\n",
       "      <td>1.100000</td>\n",
       "      <td>5.783013</td>\n",
       "      <td>0.000000</td>\n",
       "    </tr>\n",
       "    <tr>\n",
       "      <th>75%</th>\n",
       "      <td>2.917500</td>\n",
       "      <td>-13.110000</td>\n",
       "      <td>195.000000</td>\n",
       "      <td>13.900000</td>\n",
       "      <td>-3.770000</td>\n",
       "      <td>24.60000</td>\n",
       "      <td>15.870000</td>\n",
       "      <td>-30.98000</td>\n",
       "      <td>-446.720000</td>\n",
       "      <td>20.000000</td>\n",
       "      <td>11.100000</td>\n",
       "      <td>139.660000</td>\n",
       "      <td>7.050000</td>\n",
       "      <td>1.982500</td>\n",
       "      <td>5.790000</td>\n",
       "      <td>1.000000</td>\n",
       "    </tr>\n",
       "    <tr>\n",
       "      <th>max</th>\n",
       "      <td>8.850000</td>\n",
       "      <td>-6.780000</td>\n",
       "      <td>390.000000</td>\n",
       "      <td>21.220000</td>\n",
       "      <td>-1.590000</td>\n",
       "      <td>47.10000</td>\n",
       "      <td>19.570000</td>\n",
       "      <td>-24.98000</td>\n",
       "      <td>-398.720000</td>\n",
       "      <td>20.000000</td>\n",
       "      <td>17.310000</td>\n",
       "      <td>309.660000</td>\n",
       "      <td>10.350000</td>\n",
       "      <td>7.880000</td>\n",
       "      <td>8.140000</td>\n",
       "      <td>1.000000</td>\n",
       "    </tr>\n",
       "  </tbody>\n",
       "</table>\n",
       "</div>"
      ],
      "text/plain": [
       "                F1           F2           F3           F4           F5  \\\n",
       "count  1500.000000  1500.000000  1500.000000  1500.000000  1500.000000   \n",
       "mean     -4.569780   -20.474600   109.024667    12.744707    -6.248787   \n",
       "std       7.662813     7.635517   117.334580     2.217929     2.540644   \n",
       "min     -29.760000   -45.570000     0.000000     8.020000   -15.280000   \n",
       "25%     -10.260000   -26.130000    15.000000    11.440000    -8.130000   \n",
       "50%      -7.560000   -23.445000    50.000000    12.440000    -7.230000   \n",
       "75%       2.917500   -13.110000   195.000000    13.900000    -3.770000   \n",
       "max       8.850000    -6.780000   390.000000    21.220000    -1.590000   \n",
       "\n",
       "               F6           F7          F8           F9          F10  \\\n",
       "count  1500.00000  1500.000000  1500.00000  1500.000000  1500.000000   \n",
       "mean     14.90628    13.107813   -42.25600  -557.610667    10.806667   \n",
       "std      12.97563     3.166909    14.31863   142.833748     9.009814   \n",
       "min       0.00000     9.420000   -76.98000  -888.720000     0.000000   \n",
       "25%       3.72000    10.140000   -56.98000  -678.720000     2.000000   \n",
       "50%       6.21000    10.500000   -34.98000  -486.720000     2.000000   \n",
       "75%      24.60000    15.870000   -30.98000  -446.720000    20.000000   \n",
       "max      47.10000    19.570000   -24.98000  -398.720000    20.000000   \n",
       "\n",
       "               F11          F12          F13          F14          F15  \\\n",
       "count  1500.000000  1500.000000  1500.000000  1500.000000  1500.000000   \n",
       "mean      3.878840   108.488000     3.854280     0.147533     5.783013   \n",
       "std       7.541549    80.376896     3.465276     2.491236     0.710488   \n",
       "min     -19.110000  -120.340000     0.000000    -4.360000     3.060000   \n",
       "25%      -1.950000    71.660000     0.600000    -2.230000     5.783013   \n",
       "50%       0.930000    97.660000     1.020000     1.100000     5.783013   \n",
       "75%      11.100000   139.660000     7.050000     1.982500     5.790000   \n",
       "max      17.310000   309.660000    10.350000     7.880000     8.140000   \n",
       "\n",
       "             Class  \n",
       "count  1500.000000  \n",
       "mean      0.460667  \n",
       "std       0.498617  \n",
       "min       0.000000  \n",
       "25%       0.000000  \n",
       "50%       0.000000  \n",
       "75%       1.000000  \n",
       "max       1.000000  "
      ]
     },
     "execution_count": 56,
     "metadata": {},
     "output_type": "execute_result"
    }
   ],
   "source": [
    "df_train.describe()"
   ]
  },
  {
   "cell_type": "code",
   "execution_count": 5,
   "metadata": {},
   "outputs": [
    {
     "data": {
      "text/html": [
       "<div>\n",
       "<style scoped>\n",
       "    .dataframe tbody tr th:only-of-type {\n",
       "        vertical-align: middle;\n",
       "    }\n",
       "\n",
       "    .dataframe tbody tr th {\n",
       "        vertical-align: top;\n",
       "    }\n",
       "\n",
       "    .dataframe thead th {\n",
       "        text-align: right;\n",
       "    }\n",
       "</style>\n",
       "<table border=\"1\" class=\"dataframe\">\n",
       "  <thead>\n",
       "    <tr style=\"text-align: right;\">\n",
       "      <th></th>\n",
       "      <th>F1</th>\n",
       "      <th>F2</th>\n",
       "      <th>F3</th>\n",
       "      <th>F4</th>\n",
       "      <th>F5</th>\n",
       "      <th>F6</th>\n",
       "      <th>F7</th>\n",
       "      <th>F8</th>\n",
       "      <th>F9</th>\n",
       "      <th>F10</th>\n",
       "      <th>F11</th>\n",
       "      <th>F12</th>\n",
       "      <th>F13</th>\n",
       "      <th>F14</th>\n",
       "      <th>F15</th>\n",
       "      <th>Class</th>\n",
       "    </tr>\n",
       "  </thead>\n",
       "  <tbody>\n",
       "    <tr>\n",
       "      <th>0</th>\n",
       "      <td>4.92</td>\n",
       "      <td>-13.23</td>\n",
       "      <td>330</td>\n",
       "      <td>13.22</td>\n",
       "      <td>-5.51</td>\n",
       "      <td>41.10</td>\n",
       "      <td>16.72</td>\n",
       "      <td>-56.98</td>\n",
       "      <td>-748.72</td>\n",
       "      <td>20</td>\n",
       "      <td>9.75</td>\n",
       "      <td>259.66</td>\n",
       "      <td>8.00</td>\n",
       "      <td>-0.35</td>\n",
       "      <td>4.76</td>\n",
       "      <td>False</td>\n",
       "    </tr>\n",
       "    <tr>\n",
       "      <th>1</th>\n",
       "      <td>-9.33</td>\n",
       "      <td>-27.72</td>\n",
       "      <td>3</td>\n",
       "      <td>12.78</td>\n",
       "      <td>-9.12</td>\n",
       "      <td>5.31</td>\n",
       "      <td>9.90</td>\n",
       "      <td>-30.98</td>\n",
       "      <td>-436.72</td>\n",
       "      <td>2</td>\n",
       "      <td>-1.56</td>\n",
       "      <td>131.66</td>\n",
       "      <td>0.76</td>\n",
       "      <td>1.79</td>\n",
       "      <td>NaN</td>\n",
       "      <td>False</td>\n",
       "    </tr>\n",
       "    <tr>\n",
       "      <th>2</th>\n",
       "      <td>-15.09</td>\n",
       "      <td>-26.28</td>\n",
       "      <td>6</td>\n",
       "      <td>13.54</td>\n",
       "      <td>-7.75</td>\n",
       "      <td>5.67</td>\n",
       "      <td>9.93</td>\n",
       "      <td>-34.98</td>\n",
       "      <td>-482.72</td>\n",
       "      <td>2</td>\n",
       "      <td>-2.58</td>\n",
       "      <td>63.66</td>\n",
       "      <td>0.64</td>\n",
       "      <td>2.02</td>\n",
       "      <td>NaN</td>\n",
       "      <td>True</td>\n",
       "    </tr>\n",
       "    <tr>\n",
       "      <th>3</th>\n",
       "      <td>-18.09</td>\n",
       "      <td>-24.60</td>\n",
       "      <td>30</td>\n",
       "      <td>13.28</td>\n",
       "      <td>-8.61</td>\n",
       "      <td>3.51</td>\n",
       "      <td>10.02</td>\n",
       "      <td>-30.98</td>\n",
       "      <td>-414.72</td>\n",
       "      <td>2</td>\n",
       "      <td>-7.08</td>\n",
       "      <td>133.66</td>\n",
       "      <td>0.57</td>\n",
       "      <td>1.98</td>\n",
       "      <td>NaN</td>\n",
       "      <td>True</td>\n",
       "    </tr>\n",
       "    <tr>\n",
       "      <th>4</th>\n",
       "      <td>6.12</td>\n",
       "      <td>-8.64</td>\n",
       "      <td>300</td>\n",
       "      <td>14.94</td>\n",
       "      <td>-1.97</td>\n",
       "      <td>29.40</td>\n",
       "      <td>19.32</td>\n",
       "      <td>-36.98</td>\n",
       "      <td>-428.72</td>\n",
       "      <td>20</td>\n",
       "      <td>9.09</td>\n",
       "      <td>229.66</td>\n",
       "      <td>6.70</td>\n",
       "      <td>-3.83</td>\n",
       "      <td>NaN</td>\n",
       "      <td>True</td>\n",
       "    </tr>\n",
       "  </tbody>\n",
       "</table>\n",
       "</div>"
      ],
      "text/plain": [
       "      F1     F2   F3     F4    F5     F6     F7     F8      F9  F10   F11  \\\n",
       "0   4.92 -13.23  330  13.22 -5.51  41.10  16.72 -56.98 -748.72   20  9.75   \n",
       "1  -9.33 -27.72    3  12.78 -9.12   5.31   9.90 -30.98 -436.72    2 -1.56   \n",
       "2 -15.09 -26.28    6  13.54 -7.75   5.67   9.93 -34.98 -482.72    2 -2.58   \n",
       "3 -18.09 -24.60   30  13.28 -8.61   3.51  10.02 -30.98 -414.72    2 -7.08   \n",
       "4   6.12  -8.64  300  14.94 -1.97  29.40  19.32 -36.98 -428.72   20  9.09   \n",
       "\n",
       "      F12   F13   F14   F15  Class  \n",
       "0  259.66  8.00 -0.35  4.76  False  \n",
       "1  131.66  0.76  1.79   NaN  False  \n",
       "2   63.66  0.64  2.02   NaN   True  \n",
       "3  133.66  0.57  1.98   NaN   True  \n",
       "4  229.66  6.70 -3.83   NaN   True  "
      ]
     },
     "execution_count": 5,
     "metadata": {},
     "output_type": "execute_result"
    }
   ],
   "source": [
    "df_train = df_train\n",
    "df_train.head()"
   ]
  },
  {
   "cell_type": "code",
   "execution_count": 6,
   "metadata": {},
   "outputs": [
    {
     "data": {
      "text/plain": [
       "F1       660\n",
       "F2       650\n",
       "F3       141\n",
       "F4       432\n",
       "F5       646\n",
       "F6       400\n",
       "F7       214\n",
       "F8        11\n",
       "F9        91\n",
       "F10        4\n",
       "F11      656\n",
       "F12       80\n",
       "F13      216\n",
       "F14      649\n",
       "F15      331\n",
       "Class      2\n",
       "dtype: int64"
      ]
     },
     "execution_count": 6,
     "metadata": {},
     "output_type": "execute_result"
    }
   ],
   "source": [
    "df_train.nunique()"
   ]
  },
  {
   "cell_type": "markdown",
   "metadata": {},
   "source": [
    "# Drop the Column F15 (with Missing values) and create baseline models"
   ]
  },
  {
   "cell_type": "code",
   "execution_count": 7,
   "metadata": {},
   "outputs": [
    {
     "data": {
      "text/html": [
       "<div>\n",
       "<style scoped>\n",
       "    .dataframe tbody tr th:only-of-type {\n",
       "        vertical-align: middle;\n",
       "    }\n",
       "\n",
       "    .dataframe tbody tr th {\n",
       "        vertical-align: top;\n",
       "    }\n",
       "\n",
       "    .dataframe thead th {\n",
       "        text-align: right;\n",
       "    }\n",
       "</style>\n",
       "<table border=\"1\" class=\"dataframe\">\n",
       "  <thead>\n",
       "    <tr style=\"text-align: right;\">\n",
       "      <th></th>\n",
       "      <th>F1</th>\n",
       "      <th>F2</th>\n",
       "      <th>F3</th>\n",
       "      <th>F4</th>\n",
       "      <th>F5</th>\n",
       "      <th>F6</th>\n",
       "      <th>F7</th>\n",
       "      <th>F8</th>\n",
       "      <th>F9</th>\n",
       "      <th>F10</th>\n",
       "      <th>F11</th>\n",
       "      <th>F12</th>\n",
       "      <th>F13</th>\n",
       "      <th>F14</th>\n",
       "      <th>Class</th>\n",
       "    </tr>\n",
       "  </thead>\n",
       "  <tbody>\n",
       "    <tr>\n",
       "      <th>0</th>\n",
       "      <td>4.92</td>\n",
       "      <td>-13.23</td>\n",
       "      <td>330</td>\n",
       "      <td>13.22</td>\n",
       "      <td>-5.51</td>\n",
       "      <td>41.10</td>\n",
       "      <td>16.72</td>\n",
       "      <td>-56.98</td>\n",
       "      <td>-748.72</td>\n",
       "      <td>20</td>\n",
       "      <td>9.75</td>\n",
       "      <td>259.66</td>\n",
       "      <td>8.00</td>\n",
       "      <td>-0.35</td>\n",
       "      <td>False</td>\n",
       "    </tr>\n",
       "    <tr>\n",
       "      <th>1</th>\n",
       "      <td>-9.33</td>\n",
       "      <td>-27.72</td>\n",
       "      <td>3</td>\n",
       "      <td>12.78</td>\n",
       "      <td>-9.12</td>\n",
       "      <td>5.31</td>\n",
       "      <td>9.90</td>\n",
       "      <td>-30.98</td>\n",
       "      <td>-436.72</td>\n",
       "      <td>2</td>\n",
       "      <td>-1.56</td>\n",
       "      <td>131.66</td>\n",
       "      <td>0.76</td>\n",
       "      <td>1.79</td>\n",
       "      <td>False</td>\n",
       "    </tr>\n",
       "    <tr>\n",
       "      <th>2</th>\n",
       "      <td>-15.09</td>\n",
       "      <td>-26.28</td>\n",
       "      <td>6</td>\n",
       "      <td>13.54</td>\n",
       "      <td>-7.75</td>\n",
       "      <td>5.67</td>\n",
       "      <td>9.93</td>\n",
       "      <td>-34.98</td>\n",
       "      <td>-482.72</td>\n",
       "      <td>2</td>\n",
       "      <td>-2.58</td>\n",
       "      <td>63.66</td>\n",
       "      <td>0.64</td>\n",
       "      <td>2.02</td>\n",
       "      <td>True</td>\n",
       "    </tr>\n",
       "    <tr>\n",
       "      <th>3</th>\n",
       "      <td>-18.09</td>\n",
       "      <td>-24.60</td>\n",
       "      <td>30</td>\n",
       "      <td>13.28</td>\n",
       "      <td>-8.61</td>\n",
       "      <td>3.51</td>\n",
       "      <td>10.02</td>\n",
       "      <td>-30.98</td>\n",
       "      <td>-414.72</td>\n",
       "      <td>2</td>\n",
       "      <td>-7.08</td>\n",
       "      <td>133.66</td>\n",
       "      <td>0.57</td>\n",
       "      <td>1.98</td>\n",
       "      <td>True</td>\n",
       "    </tr>\n",
       "    <tr>\n",
       "      <th>4</th>\n",
       "      <td>6.12</td>\n",
       "      <td>-8.64</td>\n",
       "      <td>300</td>\n",
       "      <td>14.94</td>\n",
       "      <td>-1.97</td>\n",
       "      <td>29.40</td>\n",
       "      <td>19.32</td>\n",
       "      <td>-36.98</td>\n",
       "      <td>-428.72</td>\n",
       "      <td>20</td>\n",
       "      <td>9.09</td>\n",
       "      <td>229.66</td>\n",
       "      <td>6.70</td>\n",
       "      <td>-3.83</td>\n",
       "      <td>True</td>\n",
       "    </tr>\n",
       "  </tbody>\n",
       "</table>\n",
       "</div>"
      ],
      "text/plain": [
       "      F1     F2   F3     F4    F5     F6     F7     F8      F9  F10   F11  \\\n",
       "0   4.92 -13.23  330  13.22 -5.51  41.10  16.72 -56.98 -748.72   20  9.75   \n",
       "1  -9.33 -27.72    3  12.78 -9.12   5.31   9.90 -30.98 -436.72    2 -1.56   \n",
       "2 -15.09 -26.28    6  13.54 -7.75   5.67   9.93 -34.98 -482.72    2 -2.58   \n",
       "3 -18.09 -24.60   30  13.28 -8.61   3.51  10.02 -30.98 -414.72    2 -7.08   \n",
       "4   6.12  -8.64  300  14.94 -1.97  29.40  19.32 -36.98 -428.72   20  9.09   \n",
       "\n",
       "      F12   F13   F14  Class  \n",
       "0  259.66  8.00 -0.35  False  \n",
       "1  131.66  0.76  1.79  False  \n",
       "2   63.66  0.64  2.02   True  \n",
       "3  133.66  0.57  1.98   True  \n",
       "4  229.66  6.70 -3.83   True  "
      ]
     },
     "execution_count": 7,
     "metadata": {},
     "output_type": "execute_result"
    }
   ],
   "source": [
    "data = df_train.copy()\n",
    "data.drop(['F15'],axis=1,inplace=True)\n",
    "data.head()"
   ]
  },
  {
   "cell_type": "code",
   "execution_count": 8,
   "metadata": {},
   "outputs": [],
   "source": [
    "from sklearn.preprocessing import LabelEncoder\n",
    "label_encoder=LabelEncoder()\n",
    "data['Class'] = label_encoder.fit_transform(data['Class'])"
   ]
  },
  {
   "cell_type": "markdown",
   "metadata": {},
   "source": [
    "# Baseline model 1 after dropping column \"F15\" - Classification model - Decision Tree "
   ]
  },
  {
   "cell_type": "code",
   "execution_count": 9,
   "metadata": {},
   "outputs": [],
   "source": [
    "from sklearn.model_selection import train_test_split\n",
    "from sklearn.tree import DecisionTreeClassifier # Import Decision Tree Classifier\n",
    "from sklearn.metrics import classification_report\n",
    "from sklearn.metrics import classification_report, confusion_matrix,plot_confusion_matrix"
   ]
  },
  {
   "cell_type": "code",
   "execution_count": 10,
   "metadata": {},
   "outputs": [],
   "source": [
    "X = data[['F1', 'F2', 'F3', 'F4', 'F5', 'F6', 'F7', 'F8', 'F9', 'F10', 'F11',\n",
    "       'F12', 'F13', 'F14']]\n",
    "y = data[\"Class\"]\n"
   ]
  },
  {
   "cell_type": "markdown",
   "metadata": {},
   "source": [
    "# Split the data into X and Y to apply Baseline models"
   ]
  },
  {
   "cell_type": "code",
   "execution_count": 11,
   "metadata": {},
   "outputs": [],
   "source": [
    "X_train, X_test, y_train, y_test = train_test_split(X, y,test_size=0.3,random_state =6)\n"
   ]
  },
  {
   "cell_type": "code",
   "execution_count": 12,
   "metadata": {},
   "outputs": [
    {
     "name": "stdout",
     "output_type": "stream",
     "text": [
      "Decision Tree\n",
      "---------------------\n",
      "              precision    recall  f1-score   support\n",
      "\n",
      "           0       0.78      0.77      0.78       241\n",
      "           1       0.74      0.75      0.75       209\n",
      "\n",
      "    accuracy                           0.76       450\n",
      "   macro avg       0.76      0.76      0.76       450\n",
      "weighted avg       0.76      0.76      0.76       450\n",
      "\n"
     ]
    }
   ],
   "source": [
    "# Create Decision Tree classifer object\n",
    "clf = DecisionTreeClassifier()\n",
    "# Train Decision Tree Classifer\n",
    "clf = clf.fit(X_train,y_train)\n",
    "#Predict the response for test dataset\n",
    "y_pred = clf.predict(X_test)\n",
    "print(\"Decision Tree\")\n",
    "print('---------------------')\n",
    "print(classification_report(y_test, y_pred))"
   ]
  },
  {
   "cell_type": "code",
   "execution_count": 13,
   "metadata": {},
   "outputs": [
    {
     "data": {
      "image/png": "[encoded data removed]",
      "text/plain": [
       "<Figure size 432x288 with 2 Axes>"
      ]
     },
     "metadata": {
      "needs_background": "light"
     },
     "output_type": "display_data"
    }
   ],
   "source": [
    "plot_confusion_matrix(clf, X_test, y_test)  \n",
    "plt.show()"
   ]
  },
  {
   "cell_type": "markdown",
   "metadata": {},
   "source": [
    "#  Baseline model 2 after dropping column \"F15\" - Classification model - Random forest Classifier"
   ]
  },
  {
   "cell_type": "code",
   "execution_count": 14,
   "metadata": {},
   "outputs": [
    {
     "name": "stdout",
     "output_type": "stream",
     "text": [
      "              precision    recall  f1-score   support\n",
      "\n",
      "           0       0.84      0.79      0.82       241\n",
      "           1       0.77      0.83      0.80       209\n",
      "\n",
      "    accuracy                           0.81       450\n",
      "   macro avg       0.81      0.81      0.81       450\n",
      "weighted avg       0.81      0.81      0.81       450\n",
      "\n"
     ]
    }
   ],
   "source": [
    "from sklearn.ensemble import RandomForestClassifier\n",
    "rf = RandomForestClassifier()\n",
    "rf.fit(X_train,y_train)\n",
    "y_predrf = rf.predict(X_test)\n",
    "print(classification_report(y_test,y_predrf))"
   ]
  },
  {
   "cell_type": "code",
   "execution_count": 15,
   "metadata": {},
   "outputs": [
    {
     "data": {
      "image/png": "[encoded data removed]",
      "text/plain": [
       "<Figure size 432x288 with 2 Axes>"
      ]
     },
     "metadata": {
      "needs_background": "light"
     },
     "output_type": "display_data"
    }
   ],
   "source": [
    "plot_confusion_matrix(rf, X_test, y_test)  \n",
    "plt.show()"
   ]
  },
  {
   "cell_type": "markdown",
   "metadata": {},
   "source": [
    "# Baseline model 3 after dropping column \"F15\"  - Classification model - Random forest Classifier"
   ]
  },
  {
   "cell_type": "code",
   "execution_count": 16,
   "metadata": {},
   "outputs": [
    {
     "name": "stdout",
     "output_type": "stream",
     "text": [
      "SVM\n",
      "---------------------\n",
      "              precision    recall  f1-score   support\n",
      "\n",
      "           0       0.63      0.48      0.54       241\n",
      "           1       0.53      0.67      0.59       209\n",
      "\n",
      "    accuracy                           0.57       450\n",
      "   macro avg       0.58      0.58      0.57       450\n",
      "weighted avg       0.58      0.57      0.57       450\n",
      "\n",
      "\n"
     ]
    }
   ],
   "source": [
    "from sklearn import svm\n",
    "from sklearn.svm import SVC  \n",
    "model = SVC(kernel='rbf', random_state=0)   # SVC Model\n",
    "model.fit(X_train, y_train) \n",
    "y_pred = model.predict(X_test)\n",
    "print('SVM')\n",
    "print('---------------------')\n",
    "print(classification_report(y_test, y_pred))\n",
    "print('')"
   ]
  },
  {
   "cell_type": "code",
   "execution_count": 17,
   "metadata": {},
   "outputs": [
    {
     "data": {
      "image/png": "[encoded data removed]",
      "text/plain": [
       "<Figure size 432x288 with 2 Axes>"
      ]
     },
     "metadata": {
      "needs_background": "light"
     },
     "output_type": "display_data"
    }
   ],
   "source": [
    "plot_confusion_matrix(model, X_test, y_test)  \n",
    "plt.show()"
   ]
  },
  {
   "cell_type": "markdown",
   "metadata": {},
   "source": [
    "# Imputers for treating missing values"
   ]
  },
  {
   "cell_type": "code",
   "execution_count": 18,
   "metadata": {},
   "outputs": [],
   "source": [
    "from sklearn.impute import SimpleImputer as Imputer\n",
    "mean_imputer = Imputer(strategy='mean')\n",
    "mode_imputer = Imputer(strategy='most_frequent') \n",
    "from sklearn.impute import KNNImputer\n",
    "knn_imputer = KNNImputer(n_neighbors=2)"
   ]
  },
  {
   "cell_type": "markdown",
   "metadata": {},
   "source": [
    "# Mode Imputer"
   ]
  },
  {
   "cell_type": "code",
   "execution_count": 19,
   "metadata": {},
   "outputs": [],
   "source": [
    "# mode_imputer.fit(df_train[['F15']])\n",
    "# df_train['F15'] = mode_imputer.transform(df_train[['F15']])\n",
    "# df = df_train"
   ]
  },
  {
   "cell_type": "markdown",
   "metadata": {},
   "source": [
    "# KNN Imputer"
   ]
  },
  {
   "cell_type": "code",
   "execution_count": 20,
   "metadata": {},
   "outputs": [],
   "source": [
    "# knn_imputer.fit(df_train[['F15']])\n",
    "# df_train['F15'] = knn_imputer.transform(df_train[['F15']])\n",
    "# df = df_train"
   ]
  },
  {
   "cell_type": "code",
   "execution_count": 21,
   "metadata": {},
   "outputs": [
    {
     "data": {
      "text/html": [
       "<div>\n",
       "<style scoped>\n",
       "    .dataframe tbody tr th:only-of-type {\n",
       "        vertical-align: middle;\n",
       "    }\n",
       "\n",
       "    .dataframe tbody tr th {\n",
       "        vertical-align: top;\n",
       "    }\n",
       "\n",
       "    .dataframe thead th {\n",
       "        text-align: right;\n",
       "    }\n",
       "</style>\n",
       "<table border=\"1\" class=\"dataframe\">\n",
       "  <thead>\n",
       "    <tr style=\"text-align: right;\">\n",
       "      <th></th>\n",
       "      <th>F1</th>\n",
       "      <th>F2</th>\n",
       "      <th>F3</th>\n",
       "      <th>F4</th>\n",
       "      <th>F5</th>\n",
       "      <th>F6</th>\n",
       "      <th>F7</th>\n",
       "      <th>F8</th>\n",
       "      <th>F9</th>\n",
       "      <th>F10</th>\n",
       "      <th>F11</th>\n",
       "      <th>F12</th>\n",
       "      <th>F13</th>\n",
       "      <th>F14</th>\n",
       "      <th>F15</th>\n",
       "      <th>Class</th>\n",
       "    </tr>\n",
       "  </thead>\n",
       "  <tbody>\n",
       "    <tr>\n",
       "      <th>0</th>\n",
       "      <td>4.92</td>\n",
       "      <td>-13.23</td>\n",
       "      <td>330</td>\n",
       "      <td>13.22</td>\n",
       "      <td>-5.51</td>\n",
       "      <td>41.10</td>\n",
       "      <td>16.72</td>\n",
       "      <td>-56.98</td>\n",
       "      <td>-748.72</td>\n",
       "      <td>20</td>\n",
       "      <td>9.75</td>\n",
       "      <td>259.66</td>\n",
       "      <td>8.00</td>\n",
       "      <td>-0.35</td>\n",
       "      <td>4.76</td>\n",
       "      <td>False</td>\n",
       "    </tr>\n",
       "    <tr>\n",
       "      <th>1</th>\n",
       "      <td>-9.33</td>\n",
       "      <td>-27.72</td>\n",
       "      <td>3</td>\n",
       "      <td>12.78</td>\n",
       "      <td>-9.12</td>\n",
       "      <td>5.31</td>\n",
       "      <td>9.90</td>\n",
       "      <td>-30.98</td>\n",
       "      <td>-436.72</td>\n",
       "      <td>2</td>\n",
       "      <td>-1.56</td>\n",
       "      <td>131.66</td>\n",
       "      <td>0.76</td>\n",
       "      <td>1.79</td>\n",
       "      <td>NaN</td>\n",
       "      <td>False</td>\n",
       "    </tr>\n",
       "    <tr>\n",
       "      <th>2</th>\n",
       "      <td>-15.09</td>\n",
       "      <td>-26.28</td>\n",
       "      <td>6</td>\n",
       "      <td>13.54</td>\n",
       "      <td>-7.75</td>\n",
       "      <td>5.67</td>\n",
       "      <td>9.93</td>\n",
       "      <td>-34.98</td>\n",
       "      <td>-482.72</td>\n",
       "      <td>2</td>\n",
       "      <td>-2.58</td>\n",
       "      <td>63.66</td>\n",
       "      <td>0.64</td>\n",
       "      <td>2.02</td>\n",
       "      <td>NaN</td>\n",
       "      <td>True</td>\n",
       "    </tr>\n",
       "    <tr>\n",
       "      <th>3</th>\n",
       "      <td>-18.09</td>\n",
       "      <td>-24.60</td>\n",
       "      <td>30</td>\n",
       "      <td>13.28</td>\n",
       "      <td>-8.61</td>\n",
       "      <td>3.51</td>\n",
       "      <td>10.02</td>\n",
       "      <td>-30.98</td>\n",
       "      <td>-414.72</td>\n",
       "      <td>2</td>\n",
       "      <td>-7.08</td>\n",
       "      <td>133.66</td>\n",
       "      <td>0.57</td>\n",
       "      <td>1.98</td>\n",
       "      <td>NaN</td>\n",
       "      <td>True</td>\n",
       "    </tr>\n",
       "    <tr>\n",
       "      <th>4</th>\n",
       "      <td>6.12</td>\n",
       "      <td>-8.64</td>\n",
       "      <td>300</td>\n",
       "      <td>14.94</td>\n",
       "      <td>-1.97</td>\n",
       "      <td>29.40</td>\n",
       "      <td>19.32</td>\n",
       "      <td>-36.98</td>\n",
       "      <td>-428.72</td>\n",
       "      <td>20</td>\n",
       "      <td>9.09</td>\n",
       "      <td>229.66</td>\n",
       "      <td>6.70</td>\n",
       "      <td>-3.83</td>\n",
       "      <td>NaN</td>\n",
       "      <td>True</td>\n",
       "    </tr>\n",
       "  </tbody>\n",
       "</table>\n",
       "</div>"
      ],
      "text/plain": [
       "      F1     F2   F3     F4    F5     F6     F7     F8      F9  F10   F11  \\\n",
       "0   4.92 -13.23  330  13.22 -5.51  41.10  16.72 -56.98 -748.72   20  9.75   \n",
       "1  -9.33 -27.72    3  12.78 -9.12   5.31   9.90 -30.98 -436.72    2 -1.56   \n",
       "2 -15.09 -26.28    6  13.54 -7.75   5.67   9.93 -34.98 -482.72    2 -2.58   \n",
       "3 -18.09 -24.60   30  13.28 -8.61   3.51  10.02 -30.98 -414.72    2 -7.08   \n",
       "4   6.12  -8.64  300  14.94 -1.97  29.40  19.32 -36.98 -428.72   20  9.09   \n",
       "\n",
       "      F12   F13   F14   F15  Class  \n",
       "0  259.66  8.00 -0.35  4.76  False  \n",
       "1  131.66  0.76  1.79   NaN  False  \n",
       "2   63.66  0.64  2.02   NaN   True  \n",
       "3  133.66  0.57  1.98   NaN   True  \n",
       "4  229.66  6.70 -3.83   NaN   True  "
      ]
     },
     "execution_count": 21,
     "metadata": {},
     "output_type": "execute_result"
    }
   ],
   "source": [
    "df_train.head()"
   ]
  },
  {
   "cell_type": "markdown",
   "metadata": {},
   "source": [
    "# Mean Imputer"
   ]
  },
  {
   "cell_type": "code",
   "execution_count": 22,
   "metadata": {},
   "outputs": [],
   "source": [
    "mean_imputer.fit(df_train[['F15']])\n",
    "df_train['F15'] = mean_imputer.transform(df_train[['F15']])\n",
    "df = df_train"
   ]
  },
  {
   "cell_type": "markdown",
   "metadata": {},
   "source": [
    "# KNN and Mean Imputers are better to treat this missing values , mode imputer is skewed. Hence, we have used Mean imputer to replace missing values"
   ]
  },
  {
   "cell_type": "code",
   "execution_count": 23,
   "metadata": {},
   "outputs": [
    {
     "data": {
      "text/plain": [
       "F1       0\n",
       "F2       0\n",
       "F3       0\n",
       "F4       0\n",
       "F5       0\n",
       "F6       0\n",
       "F7       0\n",
       "F8       0\n",
       "F9       0\n",
       "F10      0\n",
       "F11      0\n",
       "F12      0\n",
       "F13      0\n",
       "F14      0\n",
       "F15      0\n",
       "Class    0\n",
       "dtype: int64"
      ]
     },
     "execution_count": 23,
     "metadata": {},
     "output_type": "execute_result"
    }
   ],
   "source": [
    "df.isnull().sum()"
   ]
  },
  {
   "cell_type": "code",
   "execution_count": 24,
   "metadata": {},
   "outputs": [
    {
     "data": {
      "text/html": [
       "<div>\n",
       "<style scoped>\n",
       "    .dataframe tbody tr th:only-of-type {\n",
       "        vertical-align: middle;\n",
       "    }\n",
       "\n",
       "    .dataframe tbody tr th {\n",
       "        vertical-align: top;\n",
       "    }\n",
       "\n",
       "    .dataframe thead th {\n",
       "        text-align: right;\n",
       "    }\n",
       "</style>\n",
       "<table border=\"1\" class=\"dataframe\">\n",
       "  <thead>\n",
       "    <tr style=\"text-align: right;\">\n",
       "      <th></th>\n",
       "      <th>F1</th>\n",
       "      <th>F2</th>\n",
       "      <th>F3</th>\n",
       "      <th>F4</th>\n",
       "      <th>F5</th>\n",
       "      <th>F6</th>\n",
       "      <th>F7</th>\n",
       "      <th>F8</th>\n",
       "      <th>F9</th>\n",
       "      <th>F10</th>\n",
       "      <th>F11</th>\n",
       "      <th>F12</th>\n",
       "      <th>F13</th>\n",
       "      <th>F14</th>\n",
       "      <th>F15</th>\n",
       "      <th>Class</th>\n",
       "    </tr>\n",
       "  </thead>\n",
       "  <tbody>\n",
       "    <tr>\n",
       "      <th>0</th>\n",
       "      <td>4.92</td>\n",
       "      <td>-13.23</td>\n",
       "      <td>330</td>\n",
       "      <td>13.22</td>\n",
       "      <td>-5.51</td>\n",
       "      <td>41.10</td>\n",
       "      <td>16.72</td>\n",
       "      <td>-56.98</td>\n",
       "      <td>-748.72</td>\n",
       "      <td>20</td>\n",
       "      <td>9.75</td>\n",
       "      <td>259.66</td>\n",
       "      <td>8.00</td>\n",
       "      <td>-0.35</td>\n",
       "      <td>4.760000</td>\n",
       "      <td>False</td>\n",
       "    </tr>\n",
       "    <tr>\n",
       "      <th>1</th>\n",
       "      <td>-9.33</td>\n",
       "      <td>-27.72</td>\n",
       "      <td>3</td>\n",
       "      <td>12.78</td>\n",
       "      <td>-9.12</td>\n",
       "      <td>5.31</td>\n",
       "      <td>9.90</td>\n",
       "      <td>-30.98</td>\n",
       "      <td>-436.72</td>\n",
       "      <td>2</td>\n",
       "      <td>-1.56</td>\n",
       "      <td>131.66</td>\n",
       "      <td>0.76</td>\n",
       "      <td>1.79</td>\n",
       "      <td>5.783013</td>\n",
       "      <td>False</td>\n",
       "    </tr>\n",
       "    <tr>\n",
       "      <th>2</th>\n",
       "      <td>-15.09</td>\n",
       "      <td>-26.28</td>\n",
       "      <td>6</td>\n",
       "      <td>13.54</td>\n",
       "      <td>-7.75</td>\n",
       "      <td>5.67</td>\n",
       "      <td>9.93</td>\n",
       "      <td>-34.98</td>\n",
       "      <td>-482.72</td>\n",
       "      <td>2</td>\n",
       "      <td>-2.58</td>\n",
       "      <td>63.66</td>\n",
       "      <td>0.64</td>\n",
       "      <td>2.02</td>\n",
       "      <td>5.783013</td>\n",
       "      <td>True</td>\n",
       "    </tr>\n",
       "    <tr>\n",
       "      <th>3</th>\n",
       "      <td>-18.09</td>\n",
       "      <td>-24.60</td>\n",
       "      <td>30</td>\n",
       "      <td>13.28</td>\n",
       "      <td>-8.61</td>\n",
       "      <td>3.51</td>\n",
       "      <td>10.02</td>\n",
       "      <td>-30.98</td>\n",
       "      <td>-414.72</td>\n",
       "      <td>2</td>\n",
       "      <td>-7.08</td>\n",
       "      <td>133.66</td>\n",
       "      <td>0.57</td>\n",
       "      <td>1.98</td>\n",
       "      <td>5.783013</td>\n",
       "      <td>True</td>\n",
       "    </tr>\n",
       "    <tr>\n",
       "      <th>4</th>\n",
       "      <td>6.12</td>\n",
       "      <td>-8.64</td>\n",
       "      <td>300</td>\n",
       "      <td>14.94</td>\n",
       "      <td>-1.97</td>\n",
       "      <td>29.40</td>\n",
       "      <td>19.32</td>\n",
       "      <td>-36.98</td>\n",
       "      <td>-428.72</td>\n",
       "      <td>20</td>\n",
       "      <td>9.09</td>\n",
       "      <td>229.66</td>\n",
       "      <td>6.70</td>\n",
       "      <td>-3.83</td>\n",
       "      <td>5.783013</td>\n",
       "      <td>True</td>\n",
       "    </tr>\n",
       "  </tbody>\n",
       "</table>\n",
       "</div>"
      ],
      "text/plain": [
       "      F1     F2   F3     F4    F5     F6     F7     F8      F9  F10   F11  \\\n",
       "0   4.92 -13.23  330  13.22 -5.51  41.10  16.72 -56.98 -748.72   20  9.75   \n",
       "1  -9.33 -27.72    3  12.78 -9.12   5.31   9.90 -30.98 -436.72    2 -1.56   \n",
       "2 -15.09 -26.28    6  13.54 -7.75   5.67   9.93 -34.98 -482.72    2 -2.58   \n",
       "3 -18.09 -24.60   30  13.28 -8.61   3.51  10.02 -30.98 -414.72    2 -7.08   \n",
       "4   6.12  -8.64  300  14.94 -1.97  29.40  19.32 -36.98 -428.72   20  9.09   \n",
       "\n",
       "      F12   F13   F14       F15  Class  \n",
       "0  259.66  8.00 -0.35  4.760000  False  \n",
       "1  131.66  0.76  1.79  5.783013  False  \n",
       "2   63.66  0.64  2.02  5.783013   True  \n",
       "3  133.66  0.57  1.98  5.783013   True  \n",
       "4  229.66  6.70 -3.83  5.783013   True  "
      ]
     },
     "execution_count": 24,
     "metadata": {},
     "output_type": "execute_result"
    }
   ],
   "source": [
    "df.head()"
   ]
  },
  {
   "cell_type": "markdown",
   "metadata": {},
   "source": [
    "# Label Encoder for Categorical Column \"Class\""
   ]
  },
  {
   "cell_type": "code",
   "execution_count": 25,
   "metadata": {},
   "outputs": [],
   "source": [
    "from sklearn.preprocessing import LabelEncoder\n",
    "label_encoder=LabelEncoder()"
   ]
  },
  {
   "cell_type": "code",
   "execution_count": 26,
   "metadata": {},
   "outputs": [],
   "source": [
    "df['Class'] = label_encoder.fit_transform(df['Class'])"
   ]
  },
  {
   "cell_type": "code",
   "execution_count": 27,
   "metadata": {},
   "outputs": [
    {
     "data": {
      "text/html": [
       "<div>\n",
       "<style scoped>\n",
       "    .dataframe tbody tr th:only-of-type {\n",
       "        vertical-align: middle;\n",
       "    }\n",
       "\n",
       "    .dataframe tbody tr th {\n",
       "        vertical-align: top;\n",
       "    }\n",
       "\n",
       "    .dataframe thead th {\n",
       "        text-align: right;\n",
       "    }\n",
       "</style>\n",
       "<table border=\"1\" class=\"dataframe\">\n",
       "  <thead>\n",
       "    <tr style=\"text-align: right;\">\n",
       "      <th></th>\n",
       "      <th>F1</th>\n",
       "      <th>F2</th>\n",
       "      <th>F3</th>\n",
       "      <th>F4</th>\n",
       "      <th>F5</th>\n",
       "      <th>F6</th>\n",
       "      <th>F7</th>\n",
       "      <th>F8</th>\n",
       "      <th>F9</th>\n",
       "      <th>F10</th>\n",
       "      <th>F11</th>\n",
       "      <th>F12</th>\n",
       "      <th>F13</th>\n",
       "      <th>F14</th>\n",
       "      <th>F15</th>\n",
       "      <th>Class</th>\n",
       "    </tr>\n",
       "  </thead>\n",
       "  <tbody>\n",
       "    <tr>\n",
       "      <th>0</th>\n",
       "      <td>4.92</td>\n",
       "      <td>-13.23</td>\n",
       "      <td>330</td>\n",
       "      <td>13.22</td>\n",
       "      <td>-5.51</td>\n",
       "      <td>41.10</td>\n",
       "      <td>16.72</td>\n",
       "      <td>-56.98</td>\n",
       "      <td>-748.72</td>\n",
       "      <td>20</td>\n",
       "      <td>9.75</td>\n",
       "      <td>259.66</td>\n",
       "      <td>8.00</td>\n",
       "      <td>-0.35</td>\n",
       "      <td>4.760000</td>\n",
       "      <td>0</td>\n",
       "    </tr>\n",
       "    <tr>\n",
       "      <th>1</th>\n",
       "      <td>-9.33</td>\n",
       "      <td>-27.72</td>\n",
       "      <td>3</td>\n",
       "      <td>12.78</td>\n",
       "      <td>-9.12</td>\n",
       "      <td>5.31</td>\n",
       "      <td>9.90</td>\n",
       "      <td>-30.98</td>\n",
       "      <td>-436.72</td>\n",
       "      <td>2</td>\n",
       "      <td>-1.56</td>\n",
       "      <td>131.66</td>\n",
       "      <td>0.76</td>\n",
       "      <td>1.79</td>\n",
       "      <td>5.783013</td>\n",
       "      <td>0</td>\n",
       "    </tr>\n",
       "    <tr>\n",
       "      <th>2</th>\n",
       "      <td>-15.09</td>\n",
       "      <td>-26.28</td>\n",
       "      <td>6</td>\n",
       "      <td>13.54</td>\n",
       "      <td>-7.75</td>\n",
       "      <td>5.67</td>\n",
       "      <td>9.93</td>\n",
       "      <td>-34.98</td>\n",
       "      <td>-482.72</td>\n",
       "      <td>2</td>\n",
       "      <td>-2.58</td>\n",
       "      <td>63.66</td>\n",
       "      <td>0.64</td>\n",
       "      <td>2.02</td>\n",
       "      <td>5.783013</td>\n",
       "      <td>1</td>\n",
       "    </tr>\n",
       "    <tr>\n",
       "      <th>3</th>\n",
       "      <td>-18.09</td>\n",
       "      <td>-24.60</td>\n",
       "      <td>30</td>\n",
       "      <td>13.28</td>\n",
       "      <td>-8.61</td>\n",
       "      <td>3.51</td>\n",
       "      <td>10.02</td>\n",
       "      <td>-30.98</td>\n",
       "      <td>-414.72</td>\n",
       "      <td>2</td>\n",
       "      <td>-7.08</td>\n",
       "      <td>133.66</td>\n",
       "      <td>0.57</td>\n",
       "      <td>1.98</td>\n",
       "      <td>5.783013</td>\n",
       "      <td>1</td>\n",
       "    </tr>\n",
       "    <tr>\n",
       "      <th>4</th>\n",
       "      <td>6.12</td>\n",
       "      <td>-8.64</td>\n",
       "      <td>300</td>\n",
       "      <td>14.94</td>\n",
       "      <td>-1.97</td>\n",
       "      <td>29.40</td>\n",
       "      <td>19.32</td>\n",
       "      <td>-36.98</td>\n",
       "      <td>-428.72</td>\n",
       "      <td>20</td>\n",
       "      <td>9.09</td>\n",
       "      <td>229.66</td>\n",
       "      <td>6.70</td>\n",
       "      <td>-3.83</td>\n",
       "      <td>5.783013</td>\n",
       "      <td>1</td>\n",
       "    </tr>\n",
       "  </tbody>\n",
       "</table>\n",
       "</div>"
      ],
      "text/plain": [
       "      F1     F2   F3     F4    F5     F6     F7     F8      F9  F10   F11  \\\n",
       "0   4.92 -13.23  330  13.22 -5.51  41.10  16.72 -56.98 -748.72   20  9.75   \n",
       "1  -9.33 -27.72    3  12.78 -9.12   5.31   9.90 -30.98 -436.72    2 -1.56   \n",
       "2 -15.09 -26.28    6  13.54 -7.75   5.67   9.93 -34.98 -482.72    2 -2.58   \n",
       "3 -18.09 -24.60   30  13.28 -8.61   3.51  10.02 -30.98 -414.72    2 -7.08   \n",
       "4   6.12  -8.64  300  14.94 -1.97  29.40  19.32 -36.98 -428.72   20  9.09   \n",
       "\n",
       "      F12   F13   F14       F15  Class  \n",
       "0  259.66  8.00 -0.35  4.760000      0  \n",
       "1  131.66  0.76  1.79  5.783013      0  \n",
       "2   63.66  0.64  2.02  5.783013      1  \n",
       "3  133.66  0.57  1.98  5.783013      1  \n",
       "4  229.66  6.70 -3.83  5.783013      1  "
      ]
     },
     "execution_count": 27,
     "metadata": {},
     "output_type": "execute_result"
    }
   ],
   "source": [
    "df.head()"
   ]
  },
  {
   "cell_type": "markdown",
   "metadata": {},
   "source": [
    "# Histogram of each Columns"
   ]
  },
  {
   "cell_type": "code",
   "execution_count": 28,
   "metadata": {},
   "outputs": [
    {
     "data": {
      "text/plain": [
       "array([[<AxesSubplot:title={'center':'F1'}>,\n",
       "        <AxesSubplot:title={'center':'F2'}>,\n",
       "        <AxesSubplot:title={'center':'F3'}>,\n",
       "        <AxesSubplot:title={'center':'F4'}>],\n",
       "       [<AxesSubplot:title={'center':'F5'}>,\n",
       "        <AxesSubplot:title={'center':'F6'}>,\n",
       "        <AxesSubplot:title={'center':'F7'}>,\n",
       "        <AxesSubplot:title={'center':'F8'}>],\n",
       "       [<AxesSubplot:title={'center':'F9'}>,\n",
       "        <AxesSubplot:title={'center':'F10'}>,\n",
       "        <AxesSubplot:title={'center':'F11'}>,\n",
       "        <AxesSubplot:title={'center':'F12'}>],\n",
       "       [<AxesSubplot:title={'center':'F13'}>,\n",
       "        <AxesSubplot:title={'center':'F14'}>,\n",
       "        <AxesSubplot:title={'center':'F15'}>,\n",
       "        <AxesSubplot:title={'center':'Class'}>]], dtype=object)"
      ]
     },
     "execution_count": 28,
     "metadata": {},
     "output_type": "execute_result"
    },
    {
     "data": {
      "image/png": "[encoded data removed]",
      "text/plain": [
       "<Figure size 1080x720 with 16 Axes>"
      ]
     },
     "metadata": {
      "needs_background": "light"
     },
     "output_type": "display_data"
    }
   ],
   "source": [
    " df.hist(bins=30, figsize=(15, 10))"
   ]
  },
  {
   "cell_type": "markdown",
   "metadata": {},
   "source": [
    "# Check value counts of target column and whether \"Class\" is balanced or not"
   ]
  },
  {
   "cell_type": "code",
   "execution_count": 29,
   "metadata": {},
   "outputs": [
    {
     "name": "stdout",
     "output_type": "stream",
     "text": [
      "0    809\n",
      "1    691\n",
      "Name: Class, dtype: int64\n"
     ]
    }
   ],
   "source": [
    "dat = df[\"Class\"].value_counts()\n",
    "print(dat)"
   ]
  },
  {
   "cell_type": "code",
   "execution_count": 30,
   "metadata": {},
   "outputs": [
    {
     "data": {
      "image/png": "[encoded data removed]",
      "text/plain": [
       "<Figure size 432x288 with 1 Axes>"
      ]
     },
     "metadata": {
      "needs_background": "light"
     },
     "output_type": "display_data"
    }
   ],
   "source": [
    "sns.countplot(x='Class',data=df)\n",
    "plt.show()"
   ]
  },
  {
   "cell_type": "markdown",
   "metadata": {},
   "source": [
    "# Heatmap to check Correlation"
   ]
  },
  {
   "cell_type": "code",
   "execution_count": 31,
   "metadata": {},
   "outputs": [
    {
     "data": {
      "text/plain": [
       "<AxesSubplot:>"
      ]
     },
     "execution_count": 31,
     "metadata": {},
     "output_type": "execute_result"
    },
    {
     "data": {
      "image/png": "[encoded data removed]",
      "text/plain": [
       "<Figure size 720x720 with 2 Axes>"
      ]
     },
     "metadata": {
      "needs_background": "light"
     },
     "output_type": "display_data"
    }
   ],
   "source": [
    "fig, ax = plt.subplots(figsize=(10,10))\n",
    "sns.heatmap(df.corr(), annot = True, fmt='.1g')"
   ]
  },
  {
   "cell_type": "markdown",
   "metadata": {},
   "source": [
    "# Splitting data and scaler transformation of data to normalize features"
   ]
  },
  {
   "cell_type": "code",
   "execution_count": 32,
   "metadata": {},
   "outputs": [],
   "source": [
    "from sklearn import preprocessing\n",
    "X1= df_train[['F1', 'F2', 'F3', 'F4', 'F5', 'F6', 'F7', 'F8', 'F9', 'F10', 'F11',\n",
    "       'F12', 'F13', 'F14','F15']]\n",
    "y1 = df_train[\"Class\"]\n",
    "min_max_scaler = preprocessing.MinMaxScaler()\n",
    "X1_scaler = min_max_scaler.fit_transform(X1)\n"
   ]
  },
  {
   "cell_type": "code",
   "execution_count": 33,
   "metadata": {},
   "outputs": [],
   "source": [
    "X_train1, X_test1, y_train1, y_test1 = train_test_split(X1_scaler, y1,test_size=0.3,random_state =6)\n"
   ]
  },
  {
   "cell_type": "markdown",
   "metadata": {},
   "source": [
    "# Decision Tree Classifier - Final Classification Model 1"
   ]
  },
  {
   "cell_type": "code",
   "execution_count": 34,
   "metadata": {},
   "outputs": [],
   "source": [
    "from sklearn.model_selection import GridSearchCV,RandomizedSearchCV"
   ]
  },
  {
   "cell_type": "code",
   "execution_count": 59,
   "metadata": {},
   "outputs": [
    {
     "name": "stdout",
     "output_type": "stream",
     "text": [
      "Decision Tree\n",
      "---------------------\n",
      "              precision    recall  f1-score   support\n",
      "\n",
      "           0       0.77      0.73      0.75       241\n",
      "           1       0.70      0.74      0.72       209\n",
      "\n",
      "    accuracy                           0.74       450\n",
      "   macro avg       0.73      0.74      0.73       450\n",
      "weighted avg       0.74      0.74      0.74       450\n",
      "\n"
     ]
    }
   ],
   "source": [
    "# Create Decision Tree classifer object\n",
    "clf1 = DecisionTreeClassifier(max_features= 15,\n",
    " max_depth= 60,\n",
    " criterion= 'gini')\n",
    "# Train Decision Tree Classifer\n",
    "clf1 = clf1.fit(X_train1,y_train1)\n",
    "#Predict the response for test dataset\n",
    "y_preddt = clf1.predict(X_test1)\n",
    "print(\"Decision Tree\")\n",
    "print('---------------------')\n",
    "print(classification_report(y_test1, y_preddt))"
   ]
  },
  {
   "cell_type": "code",
   "execution_count": 36,
   "metadata": {},
   "outputs": [
    {
     "data": {
      "image/png": "[encoded data removed]",
      "text/plain": [
       "<Figure size 432x288 with 2 Axes>"
      ]
     },
     "metadata": {
      "needs_background": "light"
     },
     "output_type": "display_data"
    }
   ],
   "source": [
    "plot_confusion_matrix(clf1, X_test1, y_test1)  \n",
    "plt.show()"
   ]
  },
  {
   "cell_type": "markdown",
   "metadata": {},
   "source": [
    "# Random forest Classifier - Final Classification model 2 (Hyperparameter tuned with Randomized Search CV)"
   ]
  },
  {
   "cell_type": "code",
   "execution_count": 37,
   "metadata": {},
   "outputs": [
    {
     "name": "stdout",
     "output_type": "stream",
     "text": [
      "Fitting 5 folds for each of 10 candidates, totalling 50 fits\n"
     ]
    },
    {
     "name": "stderr",
     "output_type": "stream",
     "text": [
      "[Parallel(n_jobs=-1)]: Using backend LokyBackend with 12 concurrent workers.\n",
      "[Parallel(n_jobs=-1)]: Done  26 tasks      | elapsed:    4.5s\n",
      "[Parallel(n_jobs=-1)]: Done  50 out of  50 | elapsed:    4.9s finished\n"
     ]
    },
    {
     "data": {
      "text/plain": [
       "({'n_estimators': 100,\n",
       "  'max_depth': 60,\n",
       "  'criterion': 'gini',\n",
       "  'bootstrap': 'True'},\n",
       " 0.8751688845167367)"
      ]
     },
     "execution_count": 37,
     "metadata": {},
     "output_type": "execute_result"
    }
   ],
   "source": [
    "rf1 = RandomForestClassifier()\n",
    "parameters = {\"n_estimators\":[10,100],\n",
    "              'criterion':['gini','entropy'],\n",
    "             'max_depth':[20,60,'None','sqrt'],\n",
    "             'bootstrap':['True','False']}\n",
    "random = RandomizedSearchCV(estimator=rf,param_distributions=parameters,scoring=\"f1_weighted\",verbose=1,n_jobs=-1)\n",
    "random.fit(X_train1,y_train1)\n",
    "random.best_params_,random.best_score_"
   ]
  },
  {
   "cell_type": "code",
   "execution_count": 38,
   "metadata": {},
   "outputs": [
    {
     "name": "stdout",
     "output_type": "stream",
     "text": [
      "Random Forest Classifier\n",
      "---------------------\n",
      "              precision    recall  f1-score   support\n",
      "\n",
      "           0       0.87      0.81      0.84       241\n",
      "           1       0.80      0.86      0.83       209\n",
      "\n",
      "    accuracy                           0.84       450\n",
      "   macro avg       0.84      0.84      0.84       450\n",
      "weighted avg       0.84      0.84      0.84       450\n",
      "\n"
     ]
    }
   ],
   "source": [
    "rf1 = RandomForestClassifier(n_estimators =100,\n",
    "  max_depth=60,\n",
    "  criterion= 'entropy',\n",
    "  bootstrap= 'False')\n",
    "rf1.fit(X_train1,y_train1)\n",
    "y_predr = rf1.predict(X_test1)\n",
    "print(\"Random Forest Classifier\")\n",
    "print('---------------------')\n",
    "print(classification_report(y_test1, y_predr))\n"
   ]
  },
  {
   "cell_type": "code",
   "execution_count": 39,
   "metadata": {},
   "outputs": [
    {
     "data": {
      "image/png": "[encoded data removed]",
      "text/plain": [
       "<Figure size 432x288 with 2 Axes>"
      ]
     },
     "metadata": {
      "needs_background": "light"
     },
     "output_type": "display_data"
    }
   ],
   "source": [
    "plot_confusion_matrix(rf1, X_test1, y_test1)  \n",
    "plt.show()"
   ]
  },
  {
   "cell_type": "markdown",
   "metadata": {},
   "source": [
    "# Support Vector Machine - Final Classification model 2 (Hyperparameter tuned with GridSearch CV)"
   ]
  },
  {
   "cell_type": "code",
   "execution_count": 40,
   "metadata": {},
   "outputs": [
    {
     "name": "stdout",
     "output_type": "stream",
     "text": [
      "Fitting 10 folds for each of 15 candidates, totalling 150 fits\n"
     ]
    },
    {
     "name": "stderr",
     "output_type": "stream",
     "text": [
      "[Parallel(n_jobs=-1)]: Using backend LokyBackend with 12 concurrent workers.\n",
      "[Parallel(n_jobs=-1)]: Done  28 tasks      | elapsed:    0.2s\n"
     ]
    },
    {
     "name": "stdout",
     "output_type": "stream",
     "text": [
      "{'C': 100, 'gamma': 1, 'kernel': 'rbf'}\n",
      "SVC(C=100, gamma=1, random_state=0)\n",
      "              precision    recall  f1-score   support\n",
      "\n",
      "           0       0.92      0.88      0.90       241\n",
      "           1       0.86      0.91      0.89       209\n",
      "\n",
      "    accuracy                           0.89       450\n",
      "   macro avg       0.89      0.89      0.89       450\n",
      "weighted avg       0.89      0.89      0.89       450\n",
      "\n"
     ]
    },
    {
     "name": "stderr",
     "output_type": "stream",
     "text": [
      "[Parallel(n_jobs=-1)]: Done 150 out of 150 | elapsed:    0.7s finished\n"
     ]
    }
   ],
   "source": [
    "from sklearn.model_selection import GridSearchCV\n",
    "  \n",
    "# defining parameter range\n",
    "param_grid = {'C': [100,125,150], \n",
    "              'gamma': [1, 0.1, 0.01, 0.001, 0.0001],\n",
    "              'kernel':['rbf'] } \n",
    "  \n",
    "grid = GridSearchCV(svm.SVC(random_state=0), param_grid,verbose=1,n_jobs=-1,cv=10)\n",
    "  \n",
    "# fitting the model for grid search\n",
    "grid.fit(X_train1, y_train1)\n",
    "print(grid.best_params_)\n",
    "print(grid.best_estimator_)\n",
    "grid_predictions = grid.predict(X_test1)\n",
    "  \n",
    "# print classification report\n",
    "print(classification_report(y_test1, grid_predictions))"
   ]
  },
  {
   "cell_type": "code",
   "execution_count": 41,
   "metadata": {},
   "outputs": [
    {
     "data": {
      "image/png": "[encoded data removed]",
      "text/plain": [
       "<Figure size 432x288 with 2 Axes>"
      ]
     },
     "metadata": {
      "needs_background": "light"
     },
     "output_type": "display_data"
    }
   ],
   "source": [
    "plot_confusion_matrix(grid, X_test1, y_test1)  \n",
    "plt.show()"
   ]
  },
  {
   "cell_type": "markdown",
   "metadata": {},
   "source": [
    "# Test Dataset P2 "
   ]
  },
  {
   "cell_type": "markdown",
   "metadata": {},
   "source": [
    "# Applying SVM Model on Test Dataset as SVM hyperparameter tuned using GridSearchCV"
   ]
  },
  {
   "cell_type": "code",
   "execution_count": 42,
   "metadata": {},
   "outputs": [
    {
     "data": {
      "text/html": [
       "<div>\n",
       "<style scoped>\n",
       "    .dataframe tbody tr th:only-of-type {\n",
       "        vertical-align: middle;\n",
       "    }\n",
       "\n",
       "    .dataframe tbody tr th {\n",
       "        vertical-align: top;\n",
       "    }\n",
       "\n",
       "    .dataframe thead th {\n",
       "        text-align: right;\n",
       "    }\n",
       "</style>\n",
       "<table border=\"1\" class=\"dataframe\">\n",
       "  <thead>\n",
       "    <tr style=\"text-align: right;\">\n",
       "      <th></th>\n",
       "      <th>F1</th>\n",
       "      <th>F2</th>\n",
       "      <th>F3</th>\n",
       "      <th>F4</th>\n",
       "      <th>F5</th>\n",
       "      <th>F6</th>\n",
       "      <th>F7</th>\n",
       "      <th>F8</th>\n",
       "      <th>F9</th>\n",
       "      <th>F10</th>\n",
       "      <th>F11</th>\n",
       "      <th>F12</th>\n",
       "      <th>F13</th>\n",
       "      <th>F14</th>\n",
       "      <th>F15</th>\n",
       "      <th>Class</th>\n",
       "    </tr>\n",
       "  </thead>\n",
       "  <tbody>\n",
       "    <tr>\n",
       "      <th>0</th>\n",
       "      <td>-8.67</td>\n",
       "      <td>-25.56</td>\n",
       "      <td>21</td>\n",
       "      <td>13.14</td>\n",
       "      <td>-7.45</td>\n",
       "      <td>5.55</td>\n",
       "      <td>10.29</td>\n",
       "      <td>-30.98</td>\n",
       "      <td>-476.72</td>\n",
       "      <td>2</td>\n",
       "      <td>-1.17</td>\n",
       "      <td>61.66</td>\n",
       "      <td>0.23</td>\n",
       "      <td>3.76</td>\n",
       "      <td>7.60</td>\n",
       "      <td>True</td>\n",
       "    </tr>\n",
       "    <tr>\n",
       "      <th>1</th>\n",
       "      <td>-8.31</td>\n",
       "      <td>-29.19</td>\n",
       "      <td>10</td>\n",
       "      <td>12.16</td>\n",
       "      <td>-7.66</td>\n",
       "      <td>5.22</td>\n",
       "      <td>10.22</td>\n",
       "      <td>-30.98</td>\n",
       "      <td>-422.72</td>\n",
       "      <td>2</td>\n",
       "      <td>-0.96</td>\n",
       "      <td>79.66</td>\n",
       "      <td>0.02</td>\n",
       "      <td>1.22</td>\n",
       "      <td>6.72</td>\n",
       "      <td>False</td>\n",
       "    </tr>\n",
       "    <tr>\n",
       "      <th>2</th>\n",
       "      <td>-0.84</td>\n",
       "      <td>-25.29</td>\n",
       "      <td>110</td>\n",
       "      <td>12.34</td>\n",
       "      <td>-3.72</td>\n",
       "      <td>20.70</td>\n",
       "      <td>17.32</td>\n",
       "      <td>-76.98</td>\n",
       "      <td>-778.72</td>\n",
       "      <td>20</td>\n",
       "      <td>11.10</td>\n",
       "      <td>-20.34</td>\n",
       "      <td>5.75</td>\n",
       "      <td>-1.97</td>\n",
       "      <td>NaN</td>\n",
       "      <td>False</td>\n",
       "    </tr>\n",
       "    <tr>\n",
       "      <th>3</th>\n",
       "      <td>0.90</td>\n",
       "      <td>-14.94</td>\n",
       "      <td>120</td>\n",
       "      <td>9.44</td>\n",
       "      <td>-3.44</td>\n",
       "      <td>28.05</td>\n",
       "      <td>15.52</td>\n",
       "      <td>-56.98</td>\n",
       "      <td>-858.72</td>\n",
       "      <td>20</td>\n",
       "      <td>6.33</td>\n",
       "      <td>229.66</td>\n",
       "      <td>8.05</td>\n",
       "      <td>-1.77</td>\n",
       "      <td>NaN</td>\n",
       "      <td>False</td>\n",
       "    </tr>\n",
       "    <tr>\n",
       "      <th>4</th>\n",
       "      <td>-0.33</td>\n",
       "      <td>-9.60</td>\n",
       "      <td>345</td>\n",
       "      <td>14.26</td>\n",
       "      <td>-3.32</td>\n",
       "      <td>34.80</td>\n",
       "      <td>15.07</td>\n",
       "      <td>-36.98</td>\n",
       "      <td>-458.72</td>\n",
       "      <td>20</td>\n",
       "      <td>12.18</td>\n",
       "      <td>129.66</td>\n",
       "      <td>9.80</td>\n",
       "      <td>-2.17</td>\n",
       "      <td>6.60</td>\n",
       "      <td>False</td>\n",
       "    </tr>\n",
       "  </tbody>\n",
       "</table>\n",
       "</div>"
      ],
      "text/plain": [
       "     F1     F2   F3     F4    F5     F6     F7     F8      F9  F10    F11  \\\n",
       "0 -8.67 -25.56   21  13.14 -7.45   5.55  10.29 -30.98 -476.72    2  -1.17   \n",
       "1 -8.31 -29.19   10  12.16 -7.66   5.22  10.22 -30.98 -422.72    2  -0.96   \n",
       "2 -0.84 -25.29  110  12.34 -3.72  20.70  17.32 -76.98 -778.72   20  11.10   \n",
       "3  0.90 -14.94  120   9.44 -3.44  28.05  15.52 -56.98 -858.72   20   6.33   \n",
       "4 -0.33  -9.60  345  14.26 -3.32  34.80  15.07 -36.98 -458.72   20  12.18   \n",
       "\n",
       "      F12   F13   F14   F15  Class  \n",
       "0   61.66  0.23  3.76  7.60   True  \n",
       "1   79.66  0.02  1.22  6.72  False  \n",
       "2  -20.34  5.75 -1.97   NaN  False  \n",
       "3  229.66  8.05 -1.77   NaN  False  \n",
       "4  129.66  9.80 -2.17  6.60  False  "
      ]
     },
     "execution_count": 42,
     "metadata": {},
     "output_type": "execute_result"
    }
   ],
   "source": [
    "df_test = pd.read_csv(\"C:/Users/heera/OneDrive - Heerak/Desktop/CE802 P2/CE802_P2_Test.csv\")\n",
    "df_test.head()"
   ]
  },
  {
   "cell_type": "markdown",
   "metadata": {},
   "source": [
    "# Mean imputer to replace missing values of Column \"F15\"\n"
   ]
  },
  {
   "cell_type": "code",
   "execution_count": 43,
   "metadata": {},
   "outputs": [],
   "source": [
    "mean_imputer.fit(df_test[['F15']])\n",
    "df_test['F15'] = mean_imputer.transform(df_test[['F15']])\n",
    "df = df_test"
   ]
  },
  {
   "cell_type": "code",
   "execution_count": 44,
   "metadata": {},
   "outputs": [
    {
     "data": {
      "text/html": [
       "<div>\n",
       "<style scoped>\n",
       "    .dataframe tbody tr th:only-of-type {\n",
       "        vertical-align: middle;\n",
       "    }\n",
       "\n",
       "    .dataframe tbody tr th {\n",
       "        vertical-align: top;\n",
       "    }\n",
       "\n",
       "    .dataframe thead th {\n",
       "        text-align: right;\n",
       "    }\n",
       "</style>\n",
       "<table border=\"1\" class=\"dataframe\">\n",
       "  <thead>\n",
       "    <tr style=\"text-align: right;\">\n",
       "      <th></th>\n",
       "      <th>F1</th>\n",
       "      <th>F2</th>\n",
       "      <th>F3</th>\n",
       "      <th>F4</th>\n",
       "      <th>F5</th>\n",
       "      <th>F6</th>\n",
       "      <th>F7</th>\n",
       "      <th>F8</th>\n",
       "      <th>F9</th>\n",
       "      <th>F10</th>\n",
       "      <th>F11</th>\n",
       "      <th>F12</th>\n",
       "      <th>F13</th>\n",
       "      <th>F14</th>\n",
       "      <th>F15</th>\n",
       "    </tr>\n",
       "  </thead>\n",
       "  <tbody>\n",
       "    <tr>\n",
       "      <th>0</th>\n",
       "      <td>-8.67</td>\n",
       "      <td>-25.56</td>\n",
       "      <td>21</td>\n",
       "      <td>13.14</td>\n",
       "      <td>-7.45</td>\n",
       "      <td>5.55</td>\n",
       "      <td>10.29</td>\n",
       "      <td>-30.98</td>\n",
       "      <td>-476.72</td>\n",
       "      <td>2</td>\n",
       "      <td>-1.17</td>\n",
       "      <td>61.66</td>\n",
       "      <td>0.23</td>\n",
       "      <td>3.76</td>\n",
       "      <td>7.600000</td>\n",
       "    </tr>\n",
       "    <tr>\n",
       "      <th>1</th>\n",
       "      <td>-8.31</td>\n",
       "      <td>-29.19</td>\n",
       "      <td>10</td>\n",
       "      <td>12.16</td>\n",
       "      <td>-7.66</td>\n",
       "      <td>5.22</td>\n",
       "      <td>10.22</td>\n",
       "      <td>-30.98</td>\n",
       "      <td>-422.72</td>\n",
       "      <td>2</td>\n",
       "      <td>-0.96</td>\n",
       "      <td>79.66</td>\n",
       "      <td>0.02</td>\n",
       "      <td>1.22</td>\n",
       "      <td>6.720000</td>\n",
       "    </tr>\n",
       "    <tr>\n",
       "      <th>2</th>\n",
       "      <td>-0.84</td>\n",
       "      <td>-25.29</td>\n",
       "      <td>110</td>\n",
       "      <td>12.34</td>\n",
       "      <td>-3.72</td>\n",
       "      <td>20.70</td>\n",
       "      <td>17.32</td>\n",
       "      <td>-76.98</td>\n",
       "      <td>-778.72</td>\n",
       "      <td>20</td>\n",
       "      <td>11.10</td>\n",
       "      <td>-20.34</td>\n",
       "      <td>5.75</td>\n",
       "      <td>-1.97</td>\n",
       "      <td>5.816347</td>\n",
       "    </tr>\n",
       "    <tr>\n",
       "      <th>3</th>\n",
       "      <td>0.90</td>\n",
       "      <td>-14.94</td>\n",
       "      <td>120</td>\n",
       "      <td>9.44</td>\n",
       "      <td>-3.44</td>\n",
       "      <td>28.05</td>\n",
       "      <td>15.52</td>\n",
       "      <td>-56.98</td>\n",
       "      <td>-858.72</td>\n",
       "      <td>20</td>\n",
       "      <td>6.33</td>\n",
       "      <td>229.66</td>\n",
       "      <td>8.05</td>\n",
       "      <td>-1.77</td>\n",
       "      <td>5.816347</td>\n",
       "    </tr>\n",
       "    <tr>\n",
       "      <th>4</th>\n",
       "      <td>-0.33</td>\n",
       "      <td>-9.60</td>\n",
       "      <td>345</td>\n",
       "      <td>14.26</td>\n",
       "      <td>-3.32</td>\n",
       "      <td>34.80</td>\n",
       "      <td>15.07</td>\n",
       "      <td>-36.98</td>\n",
       "      <td>-458.72</td>\n",
       "      <td>20</td>\n",
       "      <td>12.18</td>\n",
       "      <td>129.66</td>\n",
       "      <td>9.80</td>\n",
       "      <td>-2.17</td>\n",
       "      <td>6.600000</td>\n",
       "    </tr>\n",
       "    <tr>\n",
       "      <th>...</th>\n",
       "      <td>...</td>\n",
       "      <td>...</td>\n",
       "      <td>...</td>\n",
       "      <td>...</td>\n",
       "      <td>...</td>\n",
       "      <td>...</td>\n",
       "      <td>...</td>\n",
       "      <td>...</td>\n",
       "      <td>...</td>\n",
       "      <td>...</td>\n",
       "      <td>...</td>\n",
       "      <td>...</td>\n",
       "      <td>...</td>\n",
       "      <td>...</td>\n",
       "      <td>...</td>\n",
       "    </tr>\n",
       "    <tr>\n",
       "      <th>1495</th>\n",
       "      <td>2.07</td>\n",
       "      <td>-12.18</td>\n",
       "      <td>55</td>\n",
       "      <td>9.10</td>\n",
       "      <td>-3.70</td>\n",
       "      <td>17.40</td>\n",
       "      <td>15.72</td>\n",
       "      <td>-66.98</td>\n",
       "      <td>-838.72</td>\n",
       "      <td>20</td>\n",
       "      <td>2.58</td>\n",
       "      <td>89.66</td>\n",
       "      <td>7.45</td>\n",
       "      <td>-1.42</td>\n",
       "      <td>5.030000</td>\n",
       "    </tr>\n",
       "    <tr>\n",
       "      <th>1496</th>\n",
       "      <td>-8.73</td>\n",
       "      <td>-28.92</td>\n",
       "      <td>20</td>\n",
       "      <td>14.86</td>\n",
       "      <td>-7.81</td>\n",
       "      <td>5.01</td>\n",
       "      <td>9.84</td>\n",
       "      <td>-34.98</td>\n",
       "      <td>-470.72</td>\n",
       "      <td>2</td>\n",
       "      <td>-2.55</td>\n",
       "      <td>85.66</td>\n",
       "      <td>0.02</td>\n",
       "      <td>1.75</td>\n",
       "      <td>4.870000</td>\n",
       "    </tr>\n",
       "    <tr>\n",
       "      <th>1497</th>\n",
       "      <td>-20.43</td>\n",
       "      <td>-29.97</td>\n",
       "      <td>13</td>\n",
       "      <td>13.58</td>\n",
       "      <td>-7.32</td>\n",
       "      <td>1.35</td>\n",
       "      <td>10.05</td>\n",
       "      <td>-30.98</td>\n",
       "      <td>-416.72</td>\n",
       "      <td>2</td>\n",
       "      <td>-4.02</td>\n",
       "      <td>115.66</td>\n",
       "      <td>0.47</td>\n",
       "      <td>1.17</td>\n",
       "      <td>5.816347</td>\n",
       "    </tr>\n",
       "    <tr>\n",
       "      <th>1498</th>\n",
       "      <td>-7.50</td>\n",
       "      <td>-26.49</td>\n",
       "      <td>9</td>\n",
       "      <td>14.08</td>\n",
       "      <td>-7.28</td>\n",
       "      <td>2.79</td>\n",
       "      <td>10.50</td>\n",
       "      <td>-30.98</td>\n",
       "      <td>-414.72</td>\n",
       "      <td>2</td>\n",
       "      <td>-2.28</td>\n",
       "      <td>95.66</td>\n",
       "      <td>0.29</td>\n",
       "      <td>1.79</td>\n",
       "      <td>5.816347</td>\n",
       "    </tr>\n",
       "    <tr>\n",
       "      <th>1499</th>\n",
       "      <td>5.61</td>\n",
       "      <td>-13.26</td>\n",
       "      <td>265</td>\n",
       "      <td>15.62</td>\n",
       "      <td>-2.43</td>\n",
       "      <td>34.05</td>\n",
       "      <td>17.22</td>\n",
       "      <td>-36.98</td>\n",
       "      <td>-458.72</td>\n",
       "      <td>20</td>\n",
       "      <td>14.40</td>\n",
       "      <td>219.66</td>\n",
       "      <td>5.20</td>\n",
       "      <td>-3.10</td>\n",
       "      <td>5.816347</td>\n",
       "    </tr>\n",
       "  </tbody>\n",
       "</table>\n",
       "<p>1500 rows × 15 columns</p>\n",
       "</div>"
      ],
      "text/plain": [
       "         F1     F2   F3     F4    F5     F6     F7     F8      F9  F10    F11  \\\n",
       "0     -8.67 -25.56   21  13.14 -7.45   5.55  10.29 -30.98 -476.72    2  -1.17   \n",
       "1     -8.31 -29.19   10  12.16 -7.66   5.22  10.22 -30.98 -422.72    2  -0.96   \n",
       "2     -0.84 -25.29  110  12.34 -3.72  20.70  17.32 -76.98 -778.72   20  11.10   \n",
       "3      0.90 -14.94  120   9.44 -3.44  28.05  15.52 -56.98 -858.72   20   6.33   \n",
       "4     -0.33  -9.60  345  14.26 -3.32  34.80  15.07 -36.98 -458.72   20  12.18   \n",
       "...     ...    ...  ...    ...   ...    ...    ...    ...     ...  ...    ...   \n",
       "1495   2.07 -12.18   55   9.10 -3.70  17.40  15.72 -66.98 -838.72   20   2.58   \n",
       "1496  -8.73 -28.92   20  14.86 -7.81   5.01   9.84 -34.98 -470.72    2  -2.55   \n",
       "1497 -20.43 -29.97   13  13.58 -7.32   1.35  10.05 -30.98 -416.72    2  -4.02   \n",
       "1498  -7.50 -26.49    9  14.08 -7.28   2.79  10.50 -30.98 -414.72    2  -2.28   \n",
       "1499   5.61 -13.26  265  15.62 -2.43  34.05  17.22 -36.98 -458.72   20  14.40   \n",
       "\n",
       "         F12   F13   F14       F15  \n",
       "0      61.66  0.23  3.76  7.600000  \n",
       "1      79.66  0.02  1.22  6.720000  \n",
       "2     -20.34  5.75 -1.97  5.816347  \n",
       "3     229.66  8.05 -1.77  5.816347  \n",
       "4     129.66  9.80 -2.17  6.600000  \n",
       "...      ...   ...   ...       ...  \n",
       "1495   89.66  7.45 -1.42  5.030000  \n",
       "1496   85.66  0.02  1.75  4.870000  \n",
       "1497  115.66  0.47  1.17  5.816347  \n",
       "1498   95.66  0.29  1.79  5.816347  \n",
       "1499  219.66  5.20 -3.10  5.816347  \n",
       "\n",
       "[1500 rows x 15 columns]"
      ]
     },
     "execution_count": 44,
     "metadata": {},
     "output_type": "execute_result"
    }
   ],
   "source": [
    "df.drop(\"Class\",axis=1)"
   ]
  },
  {
   "cell_type": "code",
   "execution_count": 45,
   "metadata": {},
   "outputs": [
    {
     "data": {
      "text/html": [
       "<div>\n",
       "<style scoped>\n",
       "    .dataframe tbody tr th:only-of-type {\n",
       "        vertical-align: middle;\n",
       "    }\n",
       "\n",
       "    .dataframe tbody tr th {\n",
       "        vertical-align: top;\n",
       "    }\n",
       "\n",
       "    .dataframe thead th {\n",
       "        text-align: right;\n",
       "    }\n",
       "</style>\n",
       "<table border=\"1\" class=\"dataframe\">\n",
       "  <thead>\n",
       "    <tr style=\"text-align: right;\">\n",
       "      <th></th>\n",
       "      <th>0</th>\n",
       "      <th>1</th>\n",
       "      <th>2</th>\n",
       "      <th>3</th>\n",
       "      <th>4</th>\n",
       "      <th>5</th>\n",
       "      <th>6</th>\n",
       "      <th>7</th>\n",
       "      <th>8</th>\n",
       "      <th>9</th>\n",
       "      <th>10</th>\n",
       "      <th>11</th>\n",
       "      <th>12</th>\n",
       "      <th>13</th>\n",
       "      <th>14</th>\n",
       "    </tr>\n",
       "  </thead>\n",
       "  <tbody>\n",
       "    <tr>\n",
       "      <th>0</th>\n",
       "      <td>0.546296</td>\n",
       "      <td>0.476675</td>\n",
       "      <td>0.0525</td>\n",
       "      <td>0.337893</td>\n",
       "      <td>0.532847</td>\n",
       "      <td>0.116900</td>\n",
       "      <td>0.080229</td>\n",
       "      <td>0.884615</td>\n",
       "      <td>0.824</td>\n",
       "      <td>0.1</td>\n",
       "      <td>0.449619</td>\n",
       "      <td>0.409524</td>\n",
       "      <td>0.022330</td>\n",
       "      <td>0.655449</td>\n",
       "      <td>0.737089</td>\n",
       "    </tr>\n",
       "    <tr>\n",
       "      <th>1</th>\n",
       "      <td>0.555556</td>\n",
       "      <td>0.374046</td>\n",
       "      <td>0.0250</td>\n",
       "      <td>0.270862</td>\n",
       "      <td>0.515815</td>\n",
       "      <td>0.109911</td>\n",
       "      <td>0.073543</td>\n",
       "      <td>0.884615</td>\n",
       "      <td>0.932</td>\n",
       "      <td>0.1</td>\n",
       "      <td>0.455546</td>\n",
       "      <td>0.452381</td>\n",
       "      <td>0.001942</td>\n",
       "      <td>0.451923</td>\n",
       "      <td>0.599374</td>\n",
       "    </tr>\n",
       "    <tr>\n",
       "      <th>2</th>\n",
       "      <td>0.747685</td>\n",
       "      <td>0.484309</td>\n",
       "      <td>0.2750</td>\n",
       "      <td>0.283174</td>\n",
       "      <td>0.835361</td>\n",
       "      <td>0.437738</td>\n",
       "      <td>0.751671</td>\n",
       "      <td>0.000000</td>\n",
       "      <td>0.220</td>\n",
       "      <td>1.0</td>\n",
       "      <td>0.795936</td>\n",
       "      <td>0.214286</td>\n",
       "      <td>0.558252</td>\n",
       "      <td>0.196314</td>\n",
       "      <td>0.457957</td>\n",
       "    </tr>\n",
       "    <tr>\n",
       "      <th>3</th>\n",
       "      <td>0.792438</td>\n",
       "      <td>0.776930</td>\n",
       "      <td>0.3000</td>\n",
       "      <td>0.084815</td>\n",
       "      <td>0.858070</td>\n",
       "      <td>0.593393</td>\n",
       "      <td>0.579752</td>\n",
       "      <td>0.384615</td>\n",
       "      <td>0.060</td>\n",
       "      <td>1.0</td>\n",
       "      <td>0.661304</td>\n",
       "      <td>0.809524</td>\n",
       "      <td>0.781553</td>\n",
       "      <td>0.212340</td>\n",
       "      <td>0.457957</td>\n",
       "    </tr>\n",
       "    <tr>\n",
       "      <th>4</th>\n",
       "      <td>0.760802</td>\n",
       "      <td>0.927905</td>\n",
       "      <td>0.8625</td>\n",
       "      <td>0.414501</td>\n",
       "      <td>0.867802</td>\n",
       "      <td>0.736341</td>\n",
       "      <td>0.536772</td>\n",
       "      <td>0.769231</td>\n",
       "      <td>0.860</td>\n",
       "      <td>1.0</td>\n",
       "      <td>0.826418</td>\n",
       "      <td>0.571429</td>\n",
       "      <td>0.951456</td>\n",
       "      <td>0.180288</td>\n",
       "      <td>0.580595</td>\n",
       "    </tr>\n",
       "  </tbody>\n",
       "</table>\n",
       "</div>"
      ],
      "text/plain": [
       "         0         1       2         3         4         5         6   \\\n",
       "0  0.546296  0.476675  0.0525  0.337893  0.532847  0.116900  0.080229   \n",
       "1  0.555556  0.374046  0.0250  0.270862  0.515815  0.109911  0.073543   \n",
       "2  0.747685  0.484309  0.2750  0.283174  0.835361  0.437738  0.751671   \n",
       "3  0.792438  0.776930  0.3000  0.084815  0.858070  0.593393  0.579752   \n",
       "4  0.760802  0.927905  0.8625  0.414501  0.867802  0.736341  0.536772   \n",
       "\n",
       "         7      8    9         10        11        12        13        14  \n",
       "0  0.884615  0.824  0.1  0.449619  0.409524  0.022330  0.655449  0.737089  \n",
       "1  0.884615  0.932  0.1  0.455546  0.452381  0.001942  0.451923  0.599374  \n",
       "2  0.000000  0.220  1.0  0.795936  0.214286  0.558252  0.196314  0.457957  \n",
       "3  0.384615  0.060  1.0  0.661304  0.809524  0.781553  0.212340  0.457957  \n",
       "4  0.769231  0.860  1.0  0.826418  0.571429  0.951456  0.180288  0.580595  "
      ]
     },
     "execution_count": 45,
     "metadata": {},
     "output_type": "execute_result"
    }
   ],
   "source": [
    "# splitting data into features and target and normalizing features\n",
    "Xt=df_test.iloc[:,0:15]\n",
    "Xt1 = Xt.values #returns a numpy array\n",
    "min_max_scaler = preprocessing.MinMaxScaler()\n",
    "Xt_scaled = min_max_scaler.fit_transform(Xt1)\n",
    "testdata = pd.DataFrame(Xt_scaled)\n",
    "testdata.head()"
   ]
  },
  {
   "cell_type": "markdown",
   "metadata": {},
   "source": [
    "# Predict test data using SVM Classifier model"
   ]
  },
  {
   "cell_type": "code",
   "execution_count": 46,
   "metadata": {},
   "outputs": [],
   "source": [
    "testpred=grid.predict(testdata)"
   ]
  },
  {
   "cell_type": "code",
   "execution_count": 47,
   "metadata": {},
   "outputs": [],
   "source": [
    "# Loading test data in Dataframe\n",
    "test_final=pd.read_csv(\"C:/Users/heera/OneDrive - Heerak/Desktop/CE802 P2/CE802_P2_Test.csv\")\n",
    "Target = pd.DataFrame({'Class': testpred[:]})"
   ]
  },
  {
   "cell_type": "code",
   "execution_count": 48,
   "metadata": {},
   "outputs": [],
   "source": [
    "test_final['Class']=Target"
   ]
  },
  {
   "cell_type": "code",
   "execution_count": 49,
   "metadata": {},
   "outputs": [],
   "source": [
    "# converting 0 to false and 1 to true\n",
    "Vals = {\"Class\": {0:False,1: True}}\n",
    "test_final.replace(Vals, inplace=True)"
   ]
  },
  {
   "cell_type": "code",
   "execution_count": 50,
   "metadata": {},
   "outputs": [],
   "source": [
    "test_final.to_csv('CE802_P2_Test.csv', encoding='utf-8', index=False)"
   ]
  },
  {
   "cell_type": "code",
   "execution_count": 51,
   "metadata": {},
   "outputs": [],
   "source": [
    "yt = test_final[\"Class\"]"
   ]
  },
  {
   "cell_type": "code",
   "execution_count": 52,
   "metadata": {},
   "outputs": [],
   "source": [
    "X_traint, X_testt, y_traint, y_testt = train_test_split(Xt_scaled, yt,test_size=0.3,random_state =6)"
   ]
  },
  {
   "cell_type": "code",
   "execution_count": 63,
   "metadata": {},
   "outputs": [
    {
     "name": "stdout",
     "output_type": "stream",
     "text": [
      "Random Forest Classifier\n",
      "---------------------\n",
      "              precision    recall  f1-score   support\n",
      "\n",
      "       False       0.92      0.93      0.92       307\n",
      "        True       0.84      0.82      0.83       143\n",
      "\n",
      "    accuracy                           0.89       450\n",
      "   macro avg       0.88      0.87      0.88       450\n",
      "weighted avg       0.89      0.89      0.89       450\n",
      "\n"
     ]
    }
   ],
   "source": [
    "rf1 = RandomForestClassifier(n_estimators =100,\n",
    "  max_depth=60,\n",
    "  criterion= 'entropy',\n",
    "  bootstrap= 'False')\n",
    "rf1.fit(X_traint,y_traint)\n",
    "y_predrt = rf1.predict(X_testt)\n",
    "print(\"Random Forest Classifier\")\n",
    "print('---------------------')\n",
    "print(classification_report(y_testt, y_predrt))"
   ]
  },
  {
   "cell_type": "code",
   "execution_count": 62,
   "metadata": {},
   "outputs": [
    {
     "name": "stdout",
     "output_type": "stream",
     "text": [
      "Decision Tree\n",
      "---------------------\n",
      "              precision    recall  f1-score   support\n",
      "\n",
      "       False       0.87      0.86      0.87       307\n",
      "        True       0.71      0.73      0.72       143\n",
      "\n",
      "    accuracy                           0.82       450\n",
      "   macro avg       0.79      0.80      0.80       450\n",
      "weighted avg       0.82      0.82      0.82       450\n",
      "\n"
     ]
    }
   ],
   "source": [
    "# Create Decision Tree classifer object\n",
    "clf1 = DecisionTreeClassifier(max_features= 15,\n",
    " max_depth= 60,\n",
    " criterion= 'gini')\n",
    "# Train Decision Tree Classifer\n",
    "clf1 = clf1.fit(X_traint,y_traint)\n",
    "#Predict the response for test dataset\n",
    "y_preddtt = clf1.predict(X_testt)\n",
    "print(\"Decision Tree\")\n",
    "print('---------------------')\n",
    "print(classification_report(y_testt, y_preddtt))"
   ]
  },
  {
   "cell_type": "code",
   "execution_count": 64,
   "metadata": {},
   "outputs": [
    {
     "name": "stdout",
     "output_type": "stream",
     "text": [
      "Fitting 10 folds for each of 15 candidates, totalling 150 fits\n"
     ]
    },
    {
     "name": "stderr",
     "output_type": "stream",
     "text": [
      "[Parallel(n_jobs=-1)]: Using backend LokyBackend with 12 concurrent workers.\n",
      "[Parallel(n_jobs=-1)]: Done  26 tasks      | elapsed:    4.8s\n"
     ]
    },
    {
     "name": "stdout",
     "output_type": "stream",
     "text": [
      "{'C': 125, 'gamma': 1, 'kernel': 'rbf'}\n",
      "SVC(C=125, gamma=1, random_state=0)\n",
      "              precision    recall  f1-score   support\n",
      "\n",
      "       False       0.96      0.95      0.96       307\n",
      "        True       0.90      0.92      0.91       143\n",
      "\n",
      "    accuracy                           0.94       450\n",
      "   macro avg       0.93      0.94      0.94       450\n",
      "weighted avg       0.94      0.94      0.94       450\n",
      "\n"
     ]
    },
    {
     "name": "stderr",
     "output_type": "stream",
     "text": [
      "[Parallel(n_jobs=-1)]: Done 150 out of 150 | elapsed:    5.2s finished\n"
     ]
    }
   ],
   "source": [
    "from sklearn.model_selection import GridSearchCV\n",
    "  \n",
    "# defining parameter range\n",
    "param_grid = {'C': [100,125,150], \n",
    "              'gamma': [1, 0.1, 0.01, 0.001, 0.0001],\n",
    "              'kernel':['rbf'] } \n",
    "  \n",
    "grid = GridSearchCV(svm.SVC(random_state=0), param_grid,verbose=1,n_jobs=-1,cv=10)\n",
    "  \n",
    "# fitting the model for grid search\n",
    "grid.fit(X_traint, y_traint)\n",
    "print(grid.best_params_)\n",
    "print(grid.best_estimator_)\n",
    "grid_predictionst = grid.predict(X_testt)\n",
    "  \n",
    "# print classification report\n",
    "print(classification_report(y_testt, grid_predictionst))"
   ]
  },
  {
   "cell_type": "code",
   "execution_count": 54,
   "metadata": {},
   "outputs": [
    {
     "data": {
      "image/png": "[encoded data removed]",
      "text/plain": [
       "<Figure size 432x288 with 2 Axes>"
      ]
     },
     "metadata": {
      "needs_background": "light"
     },
     "output_type": "display_data"
    }
   ],
   "source": [
    "plot_confusion_matrix(gridt, X_testt, y_testt)  \n",
    "plt.show()"
   ]
  }
 ],
 "metadata": {
  "kernelspec": {
   "display_name": "Python 3",
   "language": "python",
   "name": "python3"
  },
  "language_info": {
   "codemirror_mode": {
    "name": "ipython",
    "version": 3
   },
   "file_extension": ".py",
   "mimetype": "text/x-python",
   "name": "python",
   "nbconvert_exporter": "python",
   "pygments_lexer": "ipython3",
   "version": "3.8.5"
  }
 },
 "nbformat": 4,
 "nbformat_minor": 4
}
